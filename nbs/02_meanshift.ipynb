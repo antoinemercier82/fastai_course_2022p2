{
 "cells": [
  {
   "cell_type": "markdown",
   "metadata": {},
   "source": [
    "# Clustering"
   ]
  },
  {
   "cell_type": "markdown",
   "metadata": {},
   "source": [
    "Clustering techniques are unsupervised learning algorithms that try to group unlabelled data into \"clusters\", using the (typically spatial) structure of the data itself. It has many [applications](https://en.wikipedia.org/wiki/Cluster_analysis#Applications).\n",
    "\n",
    "The easiest way to demonstrate how clustering works is to simply generate some data and show them in action. We'll start off by importing the libraries we'll be using today."
   ]
  },
  {
   "cell_type": "code",
   "execution_count": 1,
   "metadata": {},
   "outputs": [],
   "source": [
    "import math, matplotlib.pyplot as plt, operator, torch\n",
    "from functools import partial"
   ]
  },
  {
   "cell_type": "code",
   "execution_count": 2,
   "metadata": {},
   "outputs": [],
   "source": [
    "torch.manual_seed(42)\n",
    "torch.set_printoptions(precision=3, linewidth=140, sci_mode=False)"
   ]
  },
  {
   "cell_type": "markdown",
   "metadata": {},
   "source": [
    "## Create data"
   ]
  },
  {
   "cell_type": "code",
   "execution_count": 3,
   "metadata": {},
   "outputs": [],
   "source": [
    "n_clusters=6\n",
    "n_samples =250"
   ]
  },
  {
   "cell_type": "markdown",
   "metadata": {},
   "source": [
    "To generate our data, we're going to pick 6 random points, which we'll call centroids, and for each point we're going to generate 250 random points about it."
   ]
  },
  {
   "cell_type": "code",
   "execution_count": 4,
   "metadata": {},
   "outputs": [],
   "source": [
    "centroids = torch.rand(n_clusters, 2)*70-35"
   ]
  },
  {
   "cell_type": "code",
   "execution_count": 5,
   "metadata": {},
   "outputs": [],
   "source": [
    "from torch.distributions.multivariate_normal import MultivariateNormal\n",
    "from torch import tensor"
   ]
  },
  {
   "cell_type": "code",
   "execution_count": 6,
   "metadata": {},
   "outputs": [],
   "source": [
    "def sample(m): return MultivariateNormal(m, torch.diag(tensor([5.,5.]))).sample((n_samples,))"
   ]
  },
  {
   "cell_type": "code",
   "execution_count": 7,
   "metadata": {},
   "outputs": [
    {
     "data": {
      "text/plain": [
       "tensor([[5., 0.],\n",
       "        [0., 5.]])"
      ]
     },
     "execution_count": 7,
     "metadata": {},
     "output_type": "execute_result"
    }
   ],
   "source": [
    "torch.diag(tensor([5.,5.]))"
   ]
  },
  {
   "cell_type": "code",
   "execution_count": 8,
   "metadata": {},
   "outputs": [
    {
     "data": {
      "text/plain": [
       "tensor([[ 26.759,  29.050],\n",
       "        [ -8.200,  32.151],\n",
       "        [ -7.669,   7.063],\n",
       "        [-17.040,  20.555],\n",
       "        [ 30.854, -25.677],\n",
       "        [ 30.422,   6.551]])"
      ]
     },
     "execution_count": 8,
     "metadata": {},
     "output_type": "execute_result"
    }
   ],
   "source": [
    "centroids"
   ]
  },
  {
   "cell_type": "code",
   "execution_count": 10,
   "metadata": {},
   "outputs": [
    {
     "data": {
      "text/plain": [
       "[tensor([26.759, 29.050]),\n",
       " tensor([-8.200, 32.151]),\n",
       " tensor([-7.669,  7.063]),\n",
       " tensor([-17.040,  20.555]),\n",
       " tensor([ 30.854, -25.677]),\n",
       " tensor([30.422,  6.551])]"
      ]
     },
     "execution_count": 10,
     "metadata": {},
     "output_type": "execute_result"
    }
   ],
   "source": [
    "[c for c in centroids]"
   ]
  },
  {
   "cell_type": "code",
   "execution_count": 12,
   "metadata": {},
   "outputs": [
    {
     "data": {
      "text/plain": [
       "tensor([[31.697, 27.623],\n",
       "        [27.791, 29.648],\n",
       "        [27.955, 30.860]])"
      ]
     },
     "execution_count": 12,
     "metadata": {},
     "output_type": "execute_result"
    }
   ],
   "source": [
    "MultivariateNormal(tensor([26.759, 29.050]), torch.diag(tensor([5.,5.]))).sample((3,))"
   ]
  },
  {
   "cell_type": "code",
   "execution_count": 13,
   "metadata": {},
   "outputs": [
    {
     "data": {
      "text/plain": [
       "torch.Size([1500, 2])"
      ]
     },
     "execution_count": 13,
     "metadata": {},
     "output_type": "execute_result"
    }
   ],
   "source": [
    "slices = [sample(c) for c in centroids]\n",
    "data = torch.cat(slices)\n",
    "data.shape"
   ]
  },
  {
   "cell_type": "code",
   "execution_count": 14,
   "metadata": {},
   "outputs": [
    {
     "data": {
      "text/plain": [
       "1500"
      ]
     },
     "execution_count": 14,
     "metadata": {},
     "output_type": "execute_result"
    }
   ],
   "source": [
    "250*6"
   ]
  },
  {
   "cell_type": "markdown",
   "metadata": {},
   "source": [
    "Below we can see each centroid marked w/ X, and the coloring associated to each respective cluster."
   ]
  },
  {
   "cell_type": "code",
   "execution_count": 15,
   "metadata": {},
   "outputs": [],
   "source": [
    "def plot_data(centroids, data, n_samples, ax=None):\n",
    "    if ax is None: _,ax = plt.subplots()\n",
    "    for i, centroid in enumerate(centroids):\n",
    "        samples = data[i*n_samples:(i+1)*n_samples]\n",
    "        ax.scatter(samples[:,0], samples[:,1], s=1)\n",
    "        ax.plot(*centroid, markersize=10, marker=\"x\", color='k', mew=5)\n",
    "        ax.plot(*centroid, markersize=5, marker=\"x\", color='m', mew=2)"
   ]
  },
  {
   "cell_type": "code",
   "execution_count": 16,
   "metadata": {},
   "outputs": [
    {
     "data": {
      "image/png": "[encoded data removed]",
      "text/plain": [
       "<Figure size 432x288 with 1 Axes>"
      ]
     },
     "metadata": {
      "needs_background": "light"
     },
     "output_type": "display_data"
    }
   ],
   "source": [
    "plot_data(centroids, data, n_samples)"
   ]
  },
  {
   "cell_type": "markdown",
   "metadata": {},
   "source": [
    "## Mean shift"
   ]
  },
  {
   "cell_type": "markdown",
   "metadata": {},
   "source": [
    "Most people that have come across clustering algorithms have learnt about **k-means**. Mean shift clustering is a newer and less well-known approach, but it has some important advantages:\n",
    "* It doesn't require selecting the number of clusters in advance, but instead just requires a **bandwidth** to be specified, which can be easily chosen automatically\n",
    "* It can handle clusters of any shape, whereas k-means (without using special extensions) requires that clusters be roughly ball shaped."
   ]
  },
  {
   "cell_type": "markdown",
   "metadata": {},
   "source": [
    "The algorithm is as follows:\n",
    "* For each data point x in the sample X, find the distance between that point x and every other point in X\n",
    "* Create weights for each point in X by using the **Gaussian kernel** of that point's distance to x\n",
    "    * This weighting approach penalizes points further away from x\n",
    "    * The rate at which the weights fall to zero is determined by the **bandwidth**, which is the standard deviation of the Gaussian\n",
    "* Update x as the weighted average of all other points in X, weighted based on the previous step\n",
    "\n",
    "This will iteratively push points that are close together even closer until they are next to each other."
   ]
  },
  {
   "cell_type": "code",
   "execution_count": 17,
   "metadata": {},
   "outputs": [
    {
     "data": {
      "text/plain": [
       "tensor([ 9.226, 11.636])"
      ]
     },
     "execution_count": 17,
     "metadata": {},
     "output_type": "execute_result"
    }
   ],
   "source": [
    "midp = data.mean(0)\n",
    "midp"
   ]
  },
  {
   "cell_type": "code",
   "execution_count": 18,
   "metadata": {},
   "outputs": [
    {
     "data": {
      "image/png": "[encoded data removed]",
      "text/plain": [
       "<Figure size 432x288 with 1 Axes>"
      ]
     },
     "metadata": {
      "needs_background": "light"
     },
     "output_type": "display_data"
    }
   ],
   "source": [
    "plot_data([midp]*6, data, n_samples)"
   ]
  },
  {
   "cell_type": "markdown",
   "metadata": {},
   "source": [
    "So here's the definition of the gaussian kernel, which you may remember from high school...\n",
    " This person at the science march certainly remembered!\n",
    "\n",
    "<img src=\"http://i.imgur.com/nijQLHw.jpg\" width=400>"
   ]
  },
  {
   "cell_type": "code",
   "execution_count": 19,
   "metadata": {},
   "outputs": [],
   "source": [
    "def gaussian(d, bw): return torch.exp(-0.5*((d/bw))**2) / (bw*math.sqrt(2*math.pi))"
   ]
  },
  {
   "cell_type": "code",
   "execution_count": 20,
   "metadata": {},
   "outputs": [],
   "source": [
    "def plot_func(f):\n",
    "    x = torch.linspace(0,10,100)\n",
    "    plt.plot(x, f(x))"
   ]
  },
  {
   "cell_type": "code",
   "execution_count": 21,
   "metadata": {},
   "outputs": [
    {
     "data": {
      "image/png": "[encoded data removed]",
      "text/plain": [
       "<Figure size 432x288 with 1 Axes>"
      ]
     },
     "metadata": {
      "needs_background": "light"
     },
     "output_type": "display_data"
    }
   ],
   "source": [
    "plot_func(partial(gaussian, bw=2.5))"
   ]
  },
  {
   "cell_type": "code",
   "execution_count": 22,
   "metadata": {},
   "outputs": [
    {
     "data": {
      "text/plain": [
       "functools.partial"
      ]
     },
     "execution_count": 22,
     "metadata": {},
     "output_type": "execute_result"
    }
   ],
   "source": [
    "partial"
   ]
  },
  {
   "cell_type": "markdown",
   "metadata": {},
   "source": [
    "In our implementation, we choose the bandwidth to be 2.5. \n",
    "\n",
    "One easy way to choose bandwidth is to find which bandwidth covers one third of the data."
   ]
  },
  {
   "cell_type": "code",
   "execution_count": 23,
   "metadata": {},
   "outputs": [],
   "source": [
    "def tri(d, i): return (-d+i).clamp_min(0)/i"
   ]
  },
  {
   "cell_type": "code",
   "execution_count": 24,
   "metadata": {},
   "outputs": [
    {
     "data": {
      "image/png": "[encoded data removed]",
      "text/plain": [
       "<Figure size 432x288 with 1 Axes>"
      ]
     },
     "metadata": {
      "needs_background": "light"
     },
     "output_type": "display_data"
    }
   ],
   "source": [
    "plot_func(partial(tri, i=8))"
   ]
  },
  {
   "cell_type": "code",
   "execution_count": 25,
   "metadata": {},
   "outputs": [],
   "source": [
    "X = data.clone()\n",
    "x = data[0]"
   ]
  },
  {
   "cell_type": "code",
   "execution_count": 26,
   "metadata": {},
   "outputs": [
    {
     "data": {
      "text/plain": [
       "tensor([27.555, 27.515])"
      ]
     },
     "execution_count": 26,
     "metadata": {},
     "output_type": "execute_result"
    }
   ],
   "source": [
    "x"
   ]
  },
  {
   "cell_type": "code",
   "execution_count": 27,
   "metadata": {},
   "outputs": [
    {
     "data": {
      "text/plain": [
       "(torch.Size([2]), torch.Size([1500, 2]), torch.Size([1, 2]))"
      ]
     },
     "execution_count": 27,
     "metadata": {},
     "output_type": "execute_result"
    }
   ],
   "source": [
    "x.shape,X.shape,x[None].shape"
   ]
  },
  {
   "cell_type": "code",
   "execution_count": 28,
   "metadata": {},
   "outputs": [
    {
     "data": {
      "text/plain": [
       "tensor([[ 0.000,  0.000],\n",
       "        [ 1.899, -2.075],\n",
       "        [ 3.280, -1.740],\n",
       "        [ 5.977, -1.051],\n",
       "        [ 1.488, -0.650],\n",
       "        [-1.001, -0.145],\n",
       "        [ 2.119, -1.394],\n",
       "        [ 2.648, -2.275]])"
      ]
     },
     "execution_count": 28,
     "metadata": {},
     "output_type": "execute_result"
    }
   ],
   "source": [
    "(x[None]-X)[:8]"
   ]
  },
  {
   "cell_type": "code",
   "execution_count": 29,
   "metadata": {},
   "outputs": [
    {
     "data": {
      "text/plain": [
       "tensor([[ 0.000,  0.000],\n",
       "        [ 1.899, -2.075],\n",
       "        [ 3.280, -1.740],\n",
       "        [ 5.977, -1.051],\n",
       "        [ 1.488, -0.650],\n",
       "        [-1.001, -0.145],\n",
       "        [ 2.119, -1.394],\n",
       "        [ 2.648, -2.275]])"
      ]
     },
     "execution_count": 29,
     "metadata": {},
     "output_type": "execute_result"
    }
   ],
   "source": [
    "(x-X)[:8]"
   ]
  },
  {
   "cell_type": "code",
   "execution_count": 30,
   "metadata": {},
   "outputs": [
    {
     "data": {
      "text/plain": [
       "tensor([0.000, 2.813, 3.713, 6.068, 1.624, 1.011, 2.537, 3.492])"
      ]
     },
     "execution_count": 30,
     "metadata": {},
     "output_type": "execute_result"
    }
   ],
   "source": [
    "# rewrite using torch.einsum\n",
    "dist = ((x-X)**2).sum(1).sqrt()\n",
    "dist[:8]"
   ]
  },
  {
   "cell_type": "code",
   "execution_count": 31,
   "metadata": {},
   "outputs": [
    {
     "data": {
      "text/plain": [
       "tensor([    0.160,     0.085,     0.053,  ...,     0.000,     0.000,     0.000])"
      ]
     },
     "execution_count": 31,
     "metadata": {},
     "output_type": "execute_result"
    }
   ],
   "source": [
    "weight = gaussian(dist, 2.5)\n",
    "weight"
   ]
  },
  {
   "cell_type": "code",
   "execution_count": 32,
   "metadata": {},
   "outputs": [
    {
     "data": {
      "text/plain": [
       "(torch.Size([1500]), torch.Size([1500, 2]))"
      ]
     },
     "execution_count": 32,
     "metadata": {},
     "output_type": "execute_result"
    }
   ],
   "source": [
    "weight.shape,X.shape"
   ]
  },
  {
   "cell_type": "code",
   "execution_count": 33,
   "metadata": {},
   "outputs": [
    {
     "data": {
      "text/plain": [
       "torch.Size([1500, 1])"
      ]
     },
     "execution_count": 33,
     "metadata": {},
     "output_type": "execute_result"
    }
   ],
   "source": [
    "weight[:,None].shape"
   ]
  },
  {
   "cell_type": "code",
   "execution_count": 34,
   "metadata": {},
   "outputs": [
    {
     "data": {
      "text/plain": [
       "tensor([[    4.397,     4.391],\n",
       "        [    2.174,     2.507],\n",
       "        [    1.286,     1.550],\n",
       "        ...,\n",
       "        [    0.000,     0.000],\n",
       "        [    0.000,     0.000],\n",
       "        [    0.000,     0.000]])"
      ]
     },
     "execution_count": 34,
     "metadata": {},
     "output_type": "execute_result"
    }
   ],
   "source": [
    "weight[:,None]*X"
   ]
  },
  {
   "cell_type": "code",
   "execution_count": 35,
   "metadata": {},
   "outputs": [],
   "source": [
    "def one_update(X):\n",
    "    for i, x in enumerate(X):\n",
    "        dist = torch.sqrt(((x-X)**2).sum(1))\n",
    "#         weight = gaussian(dist, 2.5)\n",
    "        weight = tri(dist, 8)\n",
    "        X[i] = (weight[:,None]*X).sum(0)/weight.sum()"
   ]
  },
  {
   "cell_type": "code",
   "execution_count": 36,
   "metadata": {},
   "outputs": [],
   "source": [
    "def meanshift(data):\n",
    "    X = data.clone()\n",
    "    for it in range(5): one_update(X)\n",
    "    return X"
   ]
  },
  {
   "cell_type": "code",
   "execution_count": 37,
   "metadata": {},
   "outputs": [
    {
     "name": "stdout",
     "output_type": "stream",
     "text": [
      "CPU times: user 991 ms, sys: 0 ns, total: 991 ms\n",
      "Wall time: 993 ms\n"
     ]
    }
   ],
   "source": [
    "%time X=meanshift(data)"
   ]
  },
  {
   "cell_type": "code",
   "execution_count": 38,
   "metadata": {},
   "outputs": [
    {
     "data": {
      "image/png": "[encoded data removed]",
      "text/plain": [
       "<Figure size 432x288 with 1 Axes>"
      ]
     },
     "metadata": {
      "needs_background": "light"
     },
     "output_type": "display_data"
    }
   ],
   "source": [
    "plot_data(centroids+2, X, n_samples)"
   ]
  },
  {
   "cell_type": "markdown",
   "metadata": {},
   "source": [
    "## Animation"
   ]
  },
  {
   "cell_type": "code",
   "execution_count": 39,
   "metadata": {},
   "outputs": [],
   "source": [
    "from matplotlib.animation import FuncAnimation\n",
    "from IPython.display import HTML"
   ]
  },
  {
   "cell_type": "code",
   "execution_count": 40,
   "metadata": {},
   "outputs": [],
   "source": [
    "def do_one(d):\n",
    "    if d: one_update(X)\n",
    "    ax.clear()\n",
    "    plot_data(centroids+2, X, n_samples, ax=ax)"
   ]
  },
  {
   "cell_type": "code",
   "execution_count": 41,
   "metadata": {},
   "outputs": [
    {
     "data": {
      "text/html": [
       "\n",
       "<link rel=\"stylesheet\"\n",
       "href=\"https://maxcdn.bootstrapcdn.com/font-awesome/4.4.0/css/font-awesome.min.css\">\n",
       "<script language=\"javascript\">\n",
       "  function isInternetExplorer() {\n",
       "    ua = navigator.userAgent;\n",
       "    /* MSIE used to detect old browsers and Trident used to newer ones*/\n",
       "    return ua.indexOf(\"MSIE \") > -1 || ua.indexOf(\"Trident/\") > -1;\n",
       "  }\n",
       "\n",
       "  /* Define the Animation class */\n",
       "  function Animation(frames, img_id, slider_id, interval, loop_select_id){\n",
       "    this.img_id = img_id;\n",
       "    this.slider_id = slider_id;\n",
       "    this.loop_select_id = loop_select_id;\n",
       "    this.interval = interval;\n",
       "    this.current_frame = 0;\n",
       "    this.direction = 0;\n",
       "    this.timer = null;\n",
       "    this.frames = new Array(frames.length);\n",
       "\n",
       "    for (var i=0; i<frames.length; i++)\n",
       "    {\n",
       "     this.frames[i] = new Image();\n",
       "     this.frames[i].src = frames[i];\n",
       "    }\n",
       "    var slider = document.getElementById(this.slider_id);\n",
       "    slider.max = this.frames.length - 1;\n",
       "    if (isInternetExplorer()) {\n",
       "        // switch from oninput to onchange because IE <= 11 does not conform\n",
       "        // with W3C specification. It ignores oninput and onchange behaves\n",
       "        // like oninput. In contrast, Microsoft Edge behaves correctly.\n",
       "        slider.setAttribute('onchange', slider.getAttribute('oninput'));\n",
       "        slider.setAttribute('oninput', null);\n",
       "    }\n",
       "    this.set_frame(this.current_frame);\n",
       "  }\n",
       "\n",
       "  Animation.prototype.get_loop_state = function(){\n",
       "    var button_group = document[this.loop_select_id].state;\n",
       "    for (var i = 0; i < button_group.length; i++) {\n",
       "        var button = button_group[i];\n",
       "        if (button.checked) {\n",
       "            return button.value;\n",
       "        }\n",
       "    }\n",
       "    return undefined;\n",
       "  }\n",
       "\n",
       "  Animation.prototype.set_frame = function(frame){\n",
       "    this.current_frame = frame;\n",
       "    document.getElementById(this.img_id).src =\n",
       "            this.frames[this.current_frame].src;\n",
       "    document.getElementById(this.slider_id).value = this.current_frame;\n",
       "  }\n",
       "\n",
       "  Animation.prototype.next_frame = function()\n",
       "  {\n",
       "    this.set_frame(Math.min(this.frames.length - 1, this.current_frame + 1));\n",
       "  }\n",
       "\n",
       "  Animation.prototype.previous_frame = function()\n",
       "  {\n",
       "    this.set_frame(Math.max(0, this.current_frame - 1));\n",
       "  }\n",
       "\n",
       "  Animation.prototype.first_frame = function()\n",
       "  {\n",
       "    this.set_frame(0);\n",
       "  }\n",
       "\n",
       "  Animation.prototype.last_frame = function()\n",
       "  {\n",
       "    this.set_frame(this.frames.length - 1);\n",
       "  }\n",
       "\n",
       "  Animation.prototype.slower = function()\n",
       "  {\n",
       "    this.interval /= 0.7;\n",
       "    if(this.direction > 0){this.play_animation();}\n",
       "    else if(this.direction < 0){this.reverse_animation();}\n",
       "  }\n",
       "\n",
       "  Animation.prototype.faster = function()\n",
       "  {\n",
       "    this.interval *= 0.7;\n",
       "    if(this.direction > 0){this.play_animation();}\n",
       "    else if(this.direction < 0){this.reverse_animation();}\n",
       "  }\n",
       "\n",
       "  Animation.prototype.anim_step_forward = function()\n",
       "  {\n",
       "    this.current_frame += 1;\n",
       "    if(this.current_frame < this.frames.length){\n",
       "      this.set_frame(this.current_frame);\n",
       "    }else{\n",
       "      var loop_state = this.get_loop_state();\n",
       "      if(loop_state == \"loop\"){\n",
       "        this.first_frame();\n",
       "      }else if(loop_state == \"reflect\"){\n",
       "        this.last_frame();\n",
       "        this.reverse_animation();\n",
       "      }else{\n",
       "        this.pause_animation();\n",
       "        this.last_frame();\n",
       "      }\n",
       "    }\n",
       "  }\n",
       "\n",
       "  Animation.prototype.anim_step_reverse = function()\n",
       "  {\n",
       "    this.current_frame -= 1;\n",
       "    if(this.current_frame >= 0){\n",
       "      this.set_frame(this.current_frame);\n",
       "    }else{\n",
       "      var loop_state = this.get_loop_state();\n",
       "      if(loop_state == \"loop\"){\n",
       "        this.last_frame();\n",
       "      }else if(loop_state == \"reflect\"){\n",
       "        this.first_frame();\n",
       "        this.play_animation();\n",
       "      }else{\n",
       "        this.pause_animation();\n",
       "        this.first_frame();\n",
       "      }\n",
       "    }\n",
       "  }\n",
       "\n",
       "  Animation.prototype.pause_animation = function()\n",
       "  {\n",
       "    this.direction = 0;\n",
       "    if (this.timer){\n",
       "      clearInterval(this.timer);\n",
       "      this.timer = null;\n",
       "    }\n",
       "  }\n",
       "\n",
       "  Animation.prototype.play_animation = function()\n",
       "  {\n",
       "    this.pause_animation();\n",
       "    this.direction = 1;\n",
       "    var t = this;\n",
       "    if (!this.timer) this.timer = setInterval(function() {\n",
       "        t.anim_step_forward();\n",
       "    }, this.interval);\n",
       "  }\n",
       "\n",
       "  Animation.prototype.reverse_animation = function()\n",
       "  {\n",
       "    this.pause_animation();\n",
       "    this.direction = -1;\n",
       "    var t = this;\n",
       "    if (!this.timer) this.timer = setInterval(function() {\n",
       "        t.anim_step_reverse();\n",
       "    }, this.interval);\n",
       "  }\n",
       "</script>\n",
       "\n",
       "<style>\n",
       ".animation {\n",
       "    display: inline-block;\n",
       "    text-align: center;\n",
       "}\n",
       "input[type=range].anim-slider {\n",
       "    width: 374px;\n",
       "    margin-left: auto;\n",
       "    margin-right: auto;\n",
       "}\n",
       ".anim-buttons {\n",
       "    margin: 8px 0px;\n",
       "}\n",
       ".anim-buttons button {\n",
       "    padding: 0;\n",
       "    width: 36px;\n",
       "}\n",
       ".anim-state label {\n",
       "    margin-right: 8px;\n",
       "}\n",
       ".anim-state input {\n",
       "    margin: 0;\n",
       "    vertical-align: middle;\n",
       "}\n",
       "</style>\n",
       "\n",
       "<div class=\"animation\">\n",
       "  <img id=\"_anim_img951cae3452e84af093e04670755784b4\">\n",
       "  <div class=\"anim-controls\">\n",
       "    <input id=\"_anim_slider951cae3452e84af093e04670755784b4\" type=\"range\" class=\"anim-slider\"\n",
       "           name=\"points\" min=\"0\" max=\"1\" step=\"1\" value=\"0\"\n",
       "           oninput=\"anim951cae3452e84af093e04670755784b4.set_frame(parseInt(this.value));\">\n",
       "    <div class=\"anim-buttons\">\n",
       "      <button title=\"Decrease speed\" aria-label=\"Decrease speed\" onclick=\"anim951cae3452e84af093e04670755784b4.slower()\">\n",
       "          <i class=\"fa fa-minus\"></i></button>\n",
       "      <button title=\"First frame\" aria-label=\"First frame\" onclick=\"anim951cae3452e84af093e04670755784b4.first_frame()\">\n",
       "        <i class=\"fa fa-fast-backward\"></i></button>\n",
       "      <button title=\"Previous frame\" aria-label=\"Previous frame\" onclick=\"anim951cae3452e84af093e04670755784b4.previous_frame()\">\n",
       "          <i class=\"fa fa-step-backward\"></i></button>\n",
       "      <button title=\"Play backwards\" aria-label=\"Play backwards\" onclick=\"anim951cae3452e84af093e04670755784b4.reverse_animation()\">\n",
       "          <i class=\"fa fa-play fa-flip-horizontal\"></i></button>\n",
       "      <button title=\"Pause\" aria-label=\"Pause\" onclick=\"anim951cae3452e84af093e04670755784b4.pause_animation()\">\n",
       "          <i class=\"fa fa-pause\"></i></button>\n",
       "      <button title=\"Play\" aria-label=\"Play\" onclick=\"anim951cae3452e84af093e04670755784b4.play_animation()\">\n",
       "          <i class=\"fa fa-play\"></i></button>\n",
       "      <button title=\"Next frame\" aria-label=\"Next frame\" onclick=\"anim951cae3452e84af093e04670755784b4.next_frame()\">\n",
       "          <i class=\"fa fa-step-forward\"></i></button>\n",
       "      <button title=\"Last frame\" aria-label=\"Last frame\" onclick=\"anim951cae3452e84af093e04670755784b4.last_frame()\">\n",
       "          <i class=\"fa fa-fast-forward\"></i></button>\n",
       "      <button title=\"Increase speed\" aria-label=\"Increase speed\" onclick=\"anim951cae3452e84af093e04670755784b4.faster()\">\n",
       "          <i class=\"fa fa-plus\"></i></button>\n",
       "    </div>\n",
       "    <form title=\"Repetition mode\" aria-label=\"Repetition mode\" action=\"#n\" name=\"_anim_loop_select951cae3452e84af093e04670755784b4\"\n",
       "          class=\"anim-state\">\n",
       "      <input type=\"radio\" name=\"state\" value=\"once\" id=\"_anim_radio1_951cae3452e84af093e04670755784b4\"\n",
       "             checked>\n",
       "      <label for=\"_anim_radio1_951cae3452e84af093e04670755784b4\">Once</label>\n",
       "      <input type=\"radio\" name=\"state\" value=\"loop\" id=\"_anim_radio2_951cae3452e84af093e04670755784b4\"\n",
       "             >\n",
       "      <label for=\"_anim_radio2_951cae3452e84af093e04670755784b4\">Loop</label>\n",
       "      <input type=\"radio\" name=\"state\" value=\"reflect\" id=\"_anim_radio3_951cae3452e84af093e04670755784b4\"\n",
       "             >\n",
       "      <label for=\"_anim_radio3_951cae3452e84af093e04670755784b4\">Reflect</label>\n",
       "    </form>\n",
       "  </div>\n",
       "</div>\n",
       "\n",
       "\n",
       "<script language=\"javascript\">\n",
       "  /* Instantiate the Animation class. */\n",
       "  /* The IDs given should match those used in the template above. */\n",
       "  (function() {\n",
       "    var img_id = \"_anim_img951cae3452e84af093e04670755784b4\";\n",
       "    var slider_id = \"_anim_slider951cae3452e84af093e04670755784b4\";\n",
       "    var loop_select_id = \"_anim_loop_select951cae3452e84af093e04670755784b4\";\n",
       "    var frames = new Array(5);\n",
       "    \n",
       "  frames[0] = \"data:image/png;base64,iVBORw0KGgoAAAANSUhEUgAAAbAAAAEgCAYAAADVKCZpAAAAOXRFWHRTb2Z0d2FyZQBNYXRwbG90\\\n",
       "bGliIHZlcnNpb24zLjUuMiwgaHR0cHM6Ly9tYXRwbG90bGliLm9yZy8qNh9FAAAACXBIWXMAAAsT\\\n",
       "AAALEwEAmpwYAABNgklEQVR4nO3deXxU1f3/8deB7AlZCZAAIWEXkEXCvgXEnUpE8QvVfpVWcaul\\\n",
       "trVuvxZoXejXVoqtteKCVhHrQiNFUUQSUBYh7PuakISEELInM9nP7487czMTskIgmeTzfDzySObe\\\n",
       "mTtnLM0755zPOVdprRFCCCFcTYeWboAQQghxKSTAhBBCuCQJMCGEEC5JAkwIIYRLkgATQgjhkiTA\\\n",
       "hBBCuCQJMCGEEC5JAkwIIYRLkgATQgjhkiTAhBBCuCQJMCGEEC5JAkwIIYRLkgATQgjhkiTAhBBC\\\n",
       "uCQJMCGEEC5JAkwIIYRLkgATQgjhkiTAhBBCuCQJMCGEEC5JAkwIIYRLkgATQgjhkiTAhBBCuCQJ\\\n",
       "MCGEEC5JAkwIIYRLkgATQgjhkiTAhBBCuCQJMCGEEC5JAkwIIYRLkgATQgjhkiTAhBBCuCQJMCGE\\\n",
       "EC5JAkwIIYRLkgATQgjhkiTAhBBCuCS3lm7AldK5c2cdGRnZ0s0QQgiXsmvXrgta69CWbkdjtNkA\\\n",
       "i4yMJDExsaWbIYQQLkUpdaal29BYMoQohBDCJUmACSGEcEkSYEIIIVxSqwwwpVRHpdQepdRa2+Mo\\\n",
       "pdQPSqmTSql/K6U8WrqNQgghWlarDDBgAXDE4fGfgKVa675ALvCzFmmVEEKIVqPVBZhSqgdwG/CW\\\n",
       "7bECpgGf2p7yHhDbIo0TQgjRarS6AAP+CvwWqLI9DgHytNYVtsdpQPcWaJdoquJs2LLM+C6EEM2s\\\n",
       "VQWYUmoGcF5rvesSXz9fKZWolErMyspq5taJJtv7AXzze+O7EEI0s9a2kHkCcLtS6lbAC/AHlgGB\\\n",
       "Sik3Wy+sB3C2thdrrZcDywGio6P11WmyqNPwe52/CyFEM2pVPTCt9TNa6x5a60hgDrBRa30PEA/c\\\n",
       "ZXvafcDnLdRE0RS+ITBhgfFdCCGaWasKsHo8BfxKKXUSY07s7RZuj6iLzHsJIa6S1jaEaNJaJwAJ\\\n",
       "tp9PA6Nbsj2ikezzXmD0vi5VcbZxreH3Sg9OCFGrVhtgopVoapA017xXcwWhEKLNkgBrTy6lV9PU\\\n",
       "ILHPe10uKQARQjTAVebARHNoall7cTaUWWDKU85BcinzXE19jRSACCEaIAHWngy/F274w8W9mtrC\\\n",
       "pTgb4h6GTUvAw9c5SC5lfZesCRNCNDMZQmxP6hre27HcCKoyC0x9xji29wM4sR763Xhx4DVxeC87\\\n",
       "5QQhjj0521Bmds9bCYnodxkfSAjRnkkPTAC6xneMoJnyNISPuPjptQ3vZZ2AlbON7w4WLVrE0JGj\\\n",
       "OL76heqe3N4POP7RcwwdOYpFixY1+6cRQrQPEmACRj9kDC2Ofqh6OBHAwwc2/cl52K+uuaz1zxo9\\\n",
       "tvXPms9Z9OxvWbx4MekX8pm6qgPHt6yBrBMc9x3L1I/cSL+Qz+LFiyXExBWRU1zGG5tOkVNc1tJN\\\n",
       "EVeIDCGK6h6Vfd7rxHrjeG1DhTWrEouzYccbENgLeoyGsmLY8lcWvfh/LN5U/YsjPbuQqc/Hs/zc\\\n",
       "T5j//lHSL+Sb5xYvXgxlFhbd1l3WfYlm80liKi+tOwrAQ1P6tHBrxJUgASaqy+vLLEZ4de4H/W+t\\\n",
       "fc6sZqjt/cDopYHxugsnyLZq3jzkDVQHWCyxJBQmMGPpDwQSSCyxxBFnnn/zzeU8XlFJCMi6L9Es\\\n",
       "Zkf3BGD6oK68sekUs6N7Eux76ffCzSku45PE1Mu+jmg+MoQoHHpV2ijauHACjn/ZuNcOvxfGPw69\\\n",
       "p8KNS6DfjYTMfpX4LTsIDw8HjPBawAKWspRIIlnKUhawgFjbbd3CQzoR/83XhMx83ghO2YpKNINg\\\n",
       "Xw8emtKHDYczeWndUT5JTL2s69l7dJd7HdF8pAfWHjS0gLm2XlVdFYY73jB6XEfWGnNkt/wZ3H3h\\\n",
       "dDz0HAP3fAJA/1CIj49n6tSpJKQnMJOZRBLJClYAkEwyCSQQ3jmA+G++pn+/vrB3Oxz8pLpHV7Mn\\\n",
       "JttLiVo01DOy98Ts3y/3Os3VoxOXT3pgbZm94GLHG9VrsGorwvANMUJhx3LYstQYSrTk1N4TKrca\\\n",
       "39N2wOkEWPcbsNiec2qjUYUY/xKs/x39k//F8p9PJ488FrPY6TKLWUweeSx/dyX9h49x6AWq2teq\\\n",
       "gawlE7WqrWfkWMBh74nVFjaOz2uoh9XcPTpx+aQH1pbZf+FPebo6FGrbGqpm8QZA+m7jcVmxUf7e\\\n",
       "/1ajd5Sy3Tjv2QlKC6GyHM4fMo6l7YC1C+DMFgCOZ1cy/z0LgQSykIVOTVvIQp7gCebPn098fDz9\\\n",
       "HXuBviHVQevY25LtpUQtauthNbaAw/F5Na9jD7Xpg7qy4XAm10f50Dci7KLnZWdnExIiIwItQWnd\\\n",
       "Nu/7GB0drRMTE1u6GS2rtiE3+zF7IKGM45uWQHBv6HM9uHsbS8I8vI3zm4y5LaeAA7Nog3G/gCOf\\\n",
       "Q94Z8OsGRec4ntOBqe/mk16ozTmwZJJZzGIWspBIIlnGMuKIIzw83Aix/v2rrx3/kvG+U56uXlwt\\\n",
       "RCM1tuCiruflFJfx+Ie72XIqmwl9QvjivVfh2EZ2bNns9O/0+PHjTJ06lQcffNBpOYgrF3wopXZp\\\n",
       "raNbuh2NIT2wtqy2KkL7sS3Lqueaxj9eHUYj7zeOffN7Y+cMML4PmW0sai6zQoUFMvYbITfuFzDx\\\n",
       "l0bYbfoTFJ0j21LF1HcLSS80/jiyVxsmkEAeeTzBE8QQYx5PT09n6vhR7N+dWL0zR3mx83chGlAz\\\n",
       "NBpTOl/X8z5JTGXLKWNo/FzC++RvWQXA6AmTWf/NBkYPH2KGV3p6urEUBMwQkxL+q0PmwNqr4fca\\\n",
       "wTTladDKCK/eU43j/W81elxlVqMXlL6n+nUePuATYgwXnt0B6bsg4SXY9xEM/wkMmU1IUBAPjgly\\\n",
       "ers44vAJ82LtyjfwCSh2KqEHeHBICSHfPVs95+bu6/xdiHrkFJfx64/31jsX1hSzo3syf1IU/of/\\\n",
       "w8YP/2Eez7+QyQ3Tr+etDz9lxJiJpKenm+ccF+XPju7JM7cMbLBwRFweCbD2yD6MOPohY3jOw9t2\\\n",
       "wjacfPxLY7gwc7+xOPnEenhvhtHD2rQEsk+DV6Dx3Pw02PmmMXx4Oh5OfgOl+SyaUMHCO64x3zK8\\\n",
       "kyL+0Shuu/A68T/xINy/o3lu4b2TWPTTm433iXvYaN/o+bbdQebX/Rmk3F7YfJKYSvyxLKYOCK11\\\n",
       "Lsweao6BllNcxtJvjrP0m2MXBVywrweelRYOx//H6XgssXTILuPBe2bjkVduLgWxe/PNN8nOzq63\\\n",
       "cKQ5tffdRmQIsT2yF3Ikfw83vggo6DXeqCrc8YYRbKc2Go/tQVV0rvr1p76FkjzwDjaCy7cLFJ+H\\\n",
       "yjLjOIBnAIv++h4E/o43/5NA/L1u9K84BDnQf8BA4v9vKFOffJcHr3Nn0Q3B0O1a43Un1hvtm7Cg\\\n",
       "/gXNcsNL4aBmYYW9zL3m8fe2JrPs2xNYyirx8ejIsm+NvTt9PNx4aEofp2HIedcPpfj1f/PnBfdQ\\\n",
       "mHPenMudyUynuVzAaS73ahZ0tPehylYVYEopL2Az4InRtk+11guVUlHAR0AIsAv4ida6ff7J0RRZ\\\n",
       "J4y9CW98EUIddn0ffq8RXvaijBPrja2gwCif3/sBdB1qBFhJHviFgdZGvUdgBEx+Cna+AT5dYd/7\\\n",
       "0NHTeG0Hh39OpfmQ8DyLIrbx+JuPEWI5Cf49oSAVbvkz/X2C2d81nJCCg0bP7XS8MZzZZ1rjqgyl\\\n",
       "IrHdaWxhRM1f6o6/2K1lFeb3+8ZHYimrBLQZcPbXWsoq8PFw456bxrLzib+x7k+PkFBUz3rG2gqR\\\n",
       "roLGrnFrq1rbEGIpME1rPQwYDtyslBoL/AlYqrXuC+QCP2u5JroQxw12HfmGGKHW70aY9FvoHWP0\\\n",
       "pACyTxg9Gw9vY04MjHmv4nPg1QnmfgT9pxsLlgONnTYYcJNxjYAexmN7GJYUQHBvQobeYgRTQHcj\\\n",
       "FI9/Cb4hhMQ+D3e+bQTXlKdgyF21f4661q7JDS/blfrWadnPvbc1CUtZBQuu78fs6J4XDbF5e9j/\\\n",
       "yFJ8kpjK7cPD8bEdyykuM19rLavipXVH+dm7OzlQ5EvMz56rfz3j8uVXPbyAqzZU2Vq1qh6YNmr6\\\n",
       "i2wP3W1fGpgG/Nh2/D1gEfD61W5fq1XXDhU3vuj83ZF9nityorGDxukEo4w+5v9V94JGP2Rct+d4\\\n",
       "WPOIUejx4RwozoS+N8LQ/zEKPEY/bFzvm9+Duw9MWwQHVlX38P7zIFhzjGrHXhPg+FdGoUhoP6O9\\\n",
       "Q+6y7WKfA4lvOt+XDGS4UAC19zYc12oBWMoqWfbtCaYOCAWchwzvGx8JwILr+wKKl9YdZdWOFJKz\\\n",
       "LQ5DiieZP6k36w5mAJCcbaFLVTZ7Pvy/etcz/vi+n/LNhm8ZPXzIFf6vIBy1qgADUEp1xBgm7Au8\\\n",
       "BpwC8rTWFbanpAHdW6h5rVNdv+BD+5lbO13EPvTW/1Y4+KnRgzqdAKlbna9h/3ne1/DZT43ngBE0\\\n",
       "yQlGqIUOhHP7jfmykjz46kmY95WxCPrMFiO8AnvB4TXVPb31z1a3zd5T9A62vWmNtYkyXNhuNVQa\\\n",
       "Xz3kZwTQ7cPD2Z+WR/yxLH798V56BvsAsP10NqBZ9u1JIkN8mNyvMxP7dub7kxcASEzO4dc3DmDq\\\n",
       "gFD2peWSmmvsOFOec5bdq56hsiiHWGKJJPKi9YwxxBCXHccN06/nmw3fsiff22yvK68HcwWtLsC0\\\n",
       "1pXAcKVUIPAfYGBjX6uUmg/MB4iIiLgi7WuVLuUXvNN6MNuC4Z5jjN5PcfbFC5+H3ws9x1YHWKfw\\\n",
       "6tL7c/uN4z1GQ/ZJsFwwQvHu942ikNQdxhwXGCHXdVB1r7A42wjA7JOQc9oY1rTfl8yxVyk9r3ap\\\n",
       "riKFU1lFPL/2MI9P68cztwzEUlbBS+uOsv10Nv9vxiDgMPHHsogMMQLsh6QcBnTrRKC3O8nZFpKz\\\n",
       "U7guIpD5k6JIPJPDllPZJK/azdm8Erp28qRLJ08qLAUc/vg5KotygIbXMxZkn2fq1GkE/+8ys72N\\\n",
       "LbKQoLs0rS7A7LTWeUqpeGAcEKiUcrP1wnoAZ+t4zXJgORg7cVy1xra0y/kF79gTs/eEPHyqr+fY\\\n",
       "uxtyF6Ruh5B+xvZRhenQc7SxyHndb6DbUIgYC1tfhXJLdan+6Ifg+7/CsbVGSPW/2bjeytkQOgC2\\\n",
       "/g2C+xhDjBOeMD7PlmXG+5ZZjPbIBr7tUl1FCs+vNQIKYMW80eQUl7E/Ld92zAi2k+eLSM62EB7g\\\n",
       "RXp+CZuPZ5FnLTevsTslj0n9OuPj4Q7A2bwSADILS23P8KTTsBsp3fyh+Zo44vAP6cJPfv46H/7l\\\n",
       "OeKK4pza5T54OuMH9cJSVsGprCKn+bj6tPdqwkvVqgJMKRUKlNvCyxu4AaOAIx64C6MS8T7g85Zr\\\n",
       "ZRt18FMjvPrd6NyTc+zd7f3A6Gl19IAzW43dO4bMBp9g49jWV41ijBv+YAwfOgbQxF8aXzuWG+fW\\\n",
       "PWn0yirLq3cByTpWHVL9bzUqJcuLjR4iSC+sHaprpwx7L+vxaf3Mkvm/3D2cX6zaQ/yxLMorq8xh\\\n",
       "wG4BXgzo1on4Y1mMiQrm9PkismxFHdbyKhbPHMzCzw8SHujNyfOFpOVYOV9knPcd92PKK7W5E4d3\\\n",
       "QGf8Zv2Rk559GP7QK+x941dmDy1gwlwCJ94DKJZ9e9IMVPt8XH3aezXhpWpVAQaEAe/Z5sE6AB9r\\\n",
       "rdcqpQ4DHymlngf2AG+3ZCPbFHPD36eqN/x17Ok49u4ce2tgBJ79vmH2G2EOmW3MvRVnG5sA24MM\\\n",
       "jOt4+BiPxz8OHd2NKsgja8C/u3Oxib3IJPw6o201hzZFu1DX0FqfUD9WzBvNG5tOOc2BDQrz5/uT\\\n",
       "FxgUFoClrJLdKXkMCQ/glzf055PEVLKLSvkhKaf6DbSmT6gfHzwwlhe/OMLulHy6+FW/zzVdfQm5\\\n",
       "fwFrAeuBbwi6+wXcg7uTnl/C0F696fDIUo6+/SRzf3I/x7rfTHK2hWE9Apk2sIutsOSwOR/3l7uH\\\n",
       "1zk82Nitr4SzVhVgWuv9wIhajp8GRl/9FrUDNXeBr49jmMX+0/m+YfZ1Zce/hNAFzrdomfJU9Y0q\\\n",
       "7eFnf78ty2Dbq0Z41lyrZv9uD1nHoU3RLjQ0tGbvsdjnwBZc35dnbhnI9EFd2ZuaC4CXewczIF78\\\n",
       "4ggAnm4dKK2oYv3hTP5ndAR9Qv04nJEPQL7DMOOk/l3x9ugI9/+CTQd+xKgBERw7V0BxWRUnzxdi\\\n",
       "6RDCb5evIbRzZ75ed5Q+ob78z+ie9An1A+Avdw/n1x/vJf5YFp8kpkpINbNWFWCiBTR1/syxuMLx\\\n",
       "dTUDDYzHm5YY4WQvswfn1zWmAEWqENuthobW7MF0KquI/Wn53D68O31C/Xhj0yl2JBsBdjijwLwv\\\n",
       "mLeHsYVZaUUVAd5uJGdb+H3cQaIjg+jd2Y/UHCtnciwA+Hu5kWctY/l3acyfFMWkfqOxlFWwOyUP\\\n",
       "AEu5Mc3+zSkLiwd3ok+oL6eyinl+7WGztxXs68Ff7h5u9iJF85IAExer787Hdd1PbMdyGlX+XjOE\\\n",
       "6grQmu8jPa924VKq8XKKy/h93EG2nMpmaI+z3Dc+CktZJfMnRXE4o5DvT17gn5tOcSKzkMen9SNu\\\n",
       "z1nO5FjoHuiNUlZyLWUs+/YkUL1G7PO9Z0nOtvD1IWMLtZKKKixllRw7V4hnR0UXfy/yrGX4erhx\\\n",
       "JsfCwjWHOJNjoVewz0W9rZrDg/XdwkUqEZtGAqyNqMjNJX/1agJmzcItKKjhF9SnrnVlxdnGnNaU\\\n",
       "p6uHBO1DfPZCCw/f6tfUDCf7cxszXCm9rnap5pBhY6rzHG99Yi2v4pPEVHMx8+KZg9lwOJPNx7PY\\\n",
       "ciqbsooqpvQPZfOJLLzcO5JnqSDPUgjAmChjHeLtw8OxllXy9aFzZm/sdFYR35+s3gkmI7+EiipN\\\n",
       "vy6duCbMn57BPvxr2xmmDAglNcdiLqxuzGds6LiomwRYG5G/ejXnX/4zACE/a+JOWzV7XHWFx94P\\\n",
       "jB3paw4JDr/XKLJA1x84TdlRQ9Z+tUs1hwwbU503O7qnGVCH0/P51Q0D6BPqS/yxLMb2zmR2dE+y\\\n",
       "i0pRStG7sy//2m4spr9xUFdyistIzrYwsW8II3sFsezbkyQm57LlVDbzJ/XG26MDoLh9eDhr9qaT\\\n",
       "fKGIzScuMCYqmK8OZRIdGcyzt15DTnEZ3QO9sZRV8K9txvv2meLXqM/Y0HFRN7kjcxtxWT0w+5qr\\\n",
       "G/5Qf2g4Bh00vjdV2+ulmlA0I/v9wOxl6/bv9vmnl9YdNRc8L/v2JBP6hPC3H18HYG5F9e8dqRzO\\\n",
       "yCc8wJuPd6Uxf3Jvnr31mjrfr60OA7rSHZklwIQEi2gTHHfn2Jmc43QLFdDcNz4KMAJrVGQwf9t4\\\n",
       "wnyufQ9FgOsiAtmdksfMYd0oKKnk/80YRJ9QP/P69seOagZXQ49bM1cKsNa2G71oQEVuLtlvv01F\\\n",
       "bm7zXbQldnaXG1KKJjJuQHmMpd8cr/UGjhsOZxJ/LIudyTnmDu32+TAfDzezKvChKX3428YTxB/L\\\n",
       "4oF/7bTNO2kWXN+XBddXL+VIOH6B+GNZPL/2MFC9+4f9sSN7L+/XH+81w8px5/z6dtIXl07mwFzM\\\n",
       "Zc110YzFHvX12hrTo5Md5kUTGWFkVAv6eHS8qNChtjmkuuaVHp/Wj31peeQUlzN1QCj3jY8ye0bW\\\n",
       "cmMB9E2Du5FVWGrb9aN69w/745rvvf10tlmBeClzeeISaK3b5NfIkSN1SynPydEX3npLl+fkXNbz\\\n",
       "ajvf2GN1ufDWW/rwgIH6wltvNfLT1OH7v2q90N/43pRzdkUXjPNFFy6vHaLdyC4q1a+sP6pfWX9M\\\n",
       "ZxeVXnTunwknLzpel38mnNS9nlqr73/nh8u+1uW+rrUBEnUr+B3emK8Wb8CV+mrJAKsvJBzD5vyr\\\n",
       "f9OHBwzU51/9W6Ovc+HCxb/wL7z1lt7at1+jQqkpYVev+gJIwklcZfZA+mfCyUY9v62EzZXgSgEm\\\n",
       "Q4hXQMCsWU7fHTkOAVYv/K29kCZg1iyqLFaqLBYqcnN5ftky3ly+nNWPPcbIRx81hwAzIiO5I/0s\\\n",
       "D+zfz/MNtM0tKOiShh4vUl+Zu5TAi6usqUN0svdgG9HSCXqlvlqiB9aY3o3jcxrzfHsv7JfXXacx\\\n",
       "kk53cXPT259/Xmut9bFjx3S3wEDz3MKFCxvdFiGEqAkX6oFJFWIzsveu8levBpwrBu0/g9Gzyl+9\\\n",
       "msq8vDqvZX++37RpvOHlxV937zbPna+oYNbf/saqBQuYGhPDOYfrLF68mEWLFl3UFiGEaGtkCPEy\\\n",
       "OVb11Rw6tIdIlcWC9eBBijdtNl6TnUPOO+9QGJ+ANTGR4h07CF+yxBwSLE1KIvWxxyg/nUTqhm/5\\\n",
       "6Pgxp/eMJZaEzAR+/OqrBBJILLHmXWEB3ly+nLm/+AWdH3us1mFMIYRoC6QHdpkcezqO80v23lPn\\\n",
       "xx7FsnsPxZs24ztlMgGzZmE9sB8AXVGBz7hxFG/aTO4HKylNSiLloYc4+5snKT+dBJ6eeO7Zw4pu\\\n",
       "YXT1MW6NHkssC1jAUpYSSSRLWcoCFhBLLADh4eGsfuwxqt59z2xfs64ZE0KIVkJ6YJfJb9o0ir7f\\\n",
       "QkV2DhW5ubgFBTkVanTw8cGybRs+48bh2acvuR98gHtEBNadiXgNGkQHL08s27ZRkZtj9rqUl5dx\\\n",
       "8dJS3CMiiExJ4dMHHuCut94iwZLATGYSSSQrWAFAMskkkEC3gADi4+PpHRpKfrduVFksl7VmTAgh\\\n",
       "WjMJsMtUsHYtlm3bsGzbRumpk4QvWVJrFWKVxcKF1/4BgM+4cQCUJSXhNcjYay3v40+gogLl7Y22\\\n",
       "WnHrFYFvdDSlp07RMTiYrocOsygomEcsaSxmsRleAItZTB55vBM9nd6hoWZPsCI3lw4+Pk7taNZd\\\n",
       "64UQogXJEOJlUwC4R0RQvGmz01CiY0D4z5hB8M9+is/4cYQu+AXeo0Zh2baNssxM6NABKirAzQ1t\\\n",
       "tdIhOIjuf/oTFRcuULJ3HyV793Ly9GkWns8kkEAWstCpBQtZSCCBPL0pgR0vvmgWjtTWDinuEEK0\\\n",
       "FdIDu0xB995DBx9vYyhx48aLiibsgVG8YwfeQ4Zg2boN64QJKHfjP33xhm+hqgrc3Oj6u99x/s9/\\\n",
       "pionl3PPv4D3sKG49ejBub59mPf++5wvLyeWGCKJJJlkFrOYhSwkkkhiiCGuIo5Zr73Gim5hRFus\\\n",
       "dPDxvqinVd8aNSGEcCWtqgemlOqplIpXSh1WSh1SSi2wHQ9WSn2jlDph+95qxr7svRzPqCizPN6x\\\n",
       "aMJv2jTce0dRvGkzVdYSfKdMxm/aNLr97ne4945Cl5Tg3juK3v9dQ+X5THShcXO90hMnyFv5IRfO\\\n",
       "nGH2+++TaTFurBdHHMtYxhM8QTLJPMETLGOZWYWYabUyL/McFy5kcf7lP5M0Zw6ZL78shRxCiDan\\\n",
       "VQUYUAH8Wms9CBgLPKaUGgQ8DXyrte4HfGt73OrUNjxXtHEj5aeT8J0ymQ7e3hRv2kzRxo14RkUR\\\n",
       "uXIlXZ78DZErV9IxMBDL7j3VFystxWfcOMInTeROb2+n94kjDk/vUl7v3gMPtyKnEnqAO7296dw5\\\n",
       "FPfeUVScSSHn7XfMNskQohCirWhVQ4ha6wwgw/ZzoVLqCNAdmAnE2J72HpAAPHUl2lCzyKEpRQ9+\\\n",
       "06ZRvGMHftOmmccch+zKzpwhf92XeI8ciWXvXs4+9RR+EycCkPvBSizbtuE9ahTe114LaKpKSyk5\\\n",
       "dIhfT51Kh8RE/p6cDEBYaCjrV63C44/P08vDg/tTUzhfUQHAoyEh/PZHtxN07z34z7iNjN//HlBm\\\n",
       "m2QIUQjRVrSqAHOklIoERgA/AF1t4QZwDuh6pd635u1KmnL7krxPPqV402by+vQl5MEHyF+92gyO\\\n",
       "yrw80p99lvLTSZz/y18oOXgIbbWSd+ZDAAq++BIA5eZG4Oy7OPfHP2LZus289qOeXqi+ffl3cjKr\\\n",
       "H3qYsORkCnv2JPLcOT4YPYb7Thznrk6deMTdw3y/oo0b8R09hguvvWb0+mwFHVJSL4RoC1plgCml\\\n",
       "/IDPgF9qrQuUUuY5rbVWStW6+61Saj4wHyAiIuKS3rtmD6UxPRZ7L8164AAAJUeOOBVvFG/aTNGW\\\n",
       "LZSfTsKtVwS6rBxttUKHDngOGEDef/8LBYXg5oZl2zYylywxw6tjaCju4eH4RI/k5bvu4vE1awjs\\\n",
       "0IHzL/+Z4J/Oo4OPN5OffppNa9ZQ8fo/ce8dZV6jeNNmfMaPkx05hBBtUqsLMKWUO0Z4rdRa2ydq\\\n",
       "MpVSYVrrDKVUGHC+ttdqrZcDywGio6Nr3+K9ATV7KI3psdjDyn/WLEpPnSR43v14X3stVRYrZecy\\\n",
       "cO8VgXtYGACBM35EVYmVkn37oKqK0iNHjIt4eUFJCe4REXR+5BFKT56i4uxZlKcHJfv20TEwgI6B\\\n",
       "gfRbsMChIEOZW1BF/e//ku/nh0e/fmQuWULQPfcAULxpM34TJgDVu4PYqyVlHZgQwpW1qgBTRlfr\\\n",
       "beCI1voVh1NrgPuAJbbvn7dA8+pk790UJmyiKieXzOdfIPLfHwFQ8JmRwRag82OPEnSvESwdvLyp\\\n",
       "yM2h9MRJvK8dAihy3nmH8pQULrz+On5TppD34Yf4TZlCWVISxZs2k/3mW7iFBBMwaxYdfHw4//Kf\\\n",
       "6eDj7RSwOSvepfx0Ejkr3sXnuhF4D7nWrI507BGC7M4hhHBtrSrAgAnAT4ADSqm9tmPPYgTXx0qp\\\n",
       "nwFngLtbpnm1M3e+yM7GunMn5Skp5K9eTZXVKH3H04PyMynYFz3nr16N/4zbOPeHP2LduRPf0aPx\\\n",
       "GjaUvM8+Aw8PijdtJvCeH+MdHU3p8eO424ZDC9avpyItDbh4aNMeUN6jovEeFY2uqODCa/+gy5O/\\\n",
       "wS0oyHye37RpFI0eLUOKQgiX16oCTGv9Pfbf8he7/mq25VKEPPggHby9AUXArFlkv/WWcaK0DIAq\\\n",
       "q9UMmtzPPjM27AVAk7lkCVX5+ea1yk4nYU1MBKDivDFiWpGWhnvvKLxHjryoMtJv2jRyP/sM685E\\\n",
       "fKdMdto8GJyHQj2l5yWEaANaVYC5OregIEIff9ws6kAb03Ade3SnMu0sHby9CJg1yxzG8xk/Dp8R\\\n",
       "1xF07z34TprE2d88SceAAHzHjiHwrrvI++RTSo4cIXTBLyj+7juKf9iBNTGRrFdfxbJ1G1UWCx18\\\n",
       "fPCbNo1zf/gj5aeT8Bk3jq5PP232smSeSwjRVkmAXYa61ojZe1mdH3uMLk/+Br9p0yhY+wXGTZMh\\\n",
       "fMmSWl/n2ac3xZs20ylmCkUbNxLy4APmeZ/hw4G/Y01MxOuaa/CbMIEqi9Wc17JsM6oWva4ZiGdU\\\n",
       "lPSyhBBtngTYZXBcI2YvlKh5Y0t7AHXw8eb8y3/GevAg4UuWmLvFZ7/9tvna4k2bce8dRVVJiblz\\\n",
       "vf159nkzx/0Njd3mjX0YMyxWrDt3gqprBFYIIdqW1raVlEsJmDWLLk/+xqnKr7YbW1bk5jrtiZj+\\\n",
       "9NNmKNlfEzBrFj7jxxnzYlqb14XqoCzauNFpd3nHfRiNSkbMYUshhGjrpAd2GRyDqrYFz449NIDy\\\n",
       "00lmiNlDy/4at6AgfEZcZ1vA7NyLasxi6g7exh2bUcrs1cn8lxCiLZMAaya1LXiuLXhqLiR2fI39\\\n",
       "1iz2uS3A7HE1tGar+rVyF2YhRPsgAXYFOQaPffeMjoGBdQaL852UvZu0Vqu+uzALIURbJHNgV0lT\\\n",
       "bmNS252U7QUfDd3Xq7bXCiFEWyQ9sKvkcm9j0pRd8VtKbkkucSfjiO0bS5CXBKgQ4sqSALtKLvc2\\\n",
       "Jq5wH6+4k3G8ssvYwnLekHkt3BohRFsnAeYiXOE+XrF9Y52+CyHElSQBJppNkFeQ9LyEEFeNFHEI\\\n",
       "IYRwSRJgQghxhVgK8tm55jMsBfkNP1k0mQSYaBa5JbmsOLiC3JL6y/yFaE8OJWxg88oVHErYYB6T\\\n",
       "UGs+MgcmmoVUIIr2zFKQz6GEDQyOmY6Pf4B5fHDMdKfvUB1qAKNuv/PqNrSNkR6YuGy5JblYK6w8\\\n",
       "MuyRRlUgSm9NtEaX0zOq2dOyXwuMkKoZapPvmecUauLSSICJyxZ3Mo7X972Ot5t3oxYwrzq6ild2\\\n",
       "vcKqo6vqfZ4Enbiaahvua6zeI8cQNSKa3iPHNHgtH/+Ai0JNXJpWN4SolHoHmAGc11oPsR0LBv4N\\\n",
       "RALJwN1aa/mt1ko0Zf1XdnZ2ncdDQkKcjsmwpLiaahvua6zTu34gaU8ileUVdB9wDQMmTKn3WnUN\\\n",
       "OYqmaY09sHeBm2scexr4VmvdD/jW9li0Evb1Xw31vhYtWsTQoUMZ1XEUvxr5K+YOnAvA8ePHufba\\\n",
       "a5n56Eyn3lZs31h+NfJXTsEovTJxqRoaImxsz6i26wyOmU7UiGhSDu5l22erOL3rB3N+q+Zzs7Oz\\\n",
       "zR7a3q/Wmufr+uNO1K3VBZjWejOQU+PwTOA928/vAbFXs02iYTWDJSk/iUc3PMq+8/tYcXAFT/2/\\\n",
       "p1i8eDHp6enE3hzLBI8JBHkFcfz4caZOnUpGRgZrXl/DjfNvNK9RWzDae2VxJ+Na4mMKF3YpQ4S1\\\n",
       "hVVt1/HxD+DmR59g7F1zGXfnXLPnVfO59j/iPHpEMvmeeWgFm1eu4MuV/2Lo0KEsWrSoeT5se6G1\\\n",
       "bnVfGEOFBx0e5zn8rBwf1/U1cuRILS5djjVHv3PgHZ1jzan3eI41R7+25zX9wNcP6CHvDtHvHHhH\\\n",
       "a631A18Zj6Pfj9ahM0M14PQVHh6u165dq8PDwy86d/sjtze5XY09L9qv4vw8vePzT3Vxfl6jX7Pj\\\n",
       "80/1n+++Te/4/FPz2IW0VP3ZSwv1hbTUBl9vf27a0SP6gTmzzX/jocHBevvmTXrLvz/QH/71ZR0W\\\n",
       "FmaeW7hw4RX7PI0BJOpWkAON+Wp1c2AN0VprpZSu7ZxSaj4wHyAiIuKqtqutqTn/ZN9p3lph5fV9\\\n",
       "r7Pz3E5emPgCq46u4vV9rwMwNmws1goruSW5DAwZyPZz2ynKL6LguwKna8cSS0J6AjNmzCCQQGKJ\\\n",
       "JY448/zOuJ1k//HiOTFoeLsqmTcTdbEPEULj56DsPaneI8ewc81nDI6Zbs53AUz5yQMc27IJrWDE\\\n",
       "TTPMa9mvX1ZaQtKeRP69IYGPv91kXjcrJ4dbbruNO4YN5L+HT5OVUz3otHjxYoAGe2NSjt8Kizjq\\\n",
       "kKmUCtNaZyilwoDztT1Ja70cWA4QHR1da8iJ+tmDKqZnDGDMQ+WW5PLc98/x3dnveGTYI0zqPonv\\\n",
       "zn7HqqOr2HN+DwDRXaPNcLNWWPnpkJ9SUlHCd2e/o9+Sfqz77Toq8iqIJZYFLGAmM1nMYhaykEgi\\\n",
       "AYgjjrCwMB5f/jgdfC9tdFs2FBaNUd8v/5rhNur2O9nyyUq2f7qKU7t30rlnLwK6hpG0J5Eyawln\\\n",
       "jx4EIPPUCab85AFO7/qBstIStn+6inF3zuWam2aw5DfPOL1HLLEkFCbwzveJtf4R9+abb/L444/X\\\n",
       "+kecXe+RY0g9fMCsfGyPWt0cWB3WAPfZfr4P+LwF29Km2Xsw65LWOR377ux3jA0bC8CTo57kVyN/\\\n",
       "hbXCyvaM7YwNG8uobqPYl7UPgI0pGwEI9wvnbNFZkjySuOPPd+AT4kMCCSSTTCSRrGAFkUSSTDIJ\\\n",
       "JOAf6s/E5yfyYfaHDZbY16WxBSWifbLPafUeOabOtVh7v1rL5pUr+OLV/zPnvuxjPmePHGTf+i/I\\\n",
       "z8wgakS0MaEBeHXyJ2lPIpvef4vNK1egNEy+Zx4DJkyh5Pw5fjZ2GKHBwQDmH3FLWUokkSxlKQtY\\\n",
       "QKxtaj88PJz4+Ph6wwuqKx9P7/qhef7juKBW1wNTSq0CYoDOSqk0YCGwBPhYKfUz4Axwd8u1sG2z\\\n",
       "91ysFVZzKC6mZww7z+2kT2Afc73XvCHz+MfefwAwossI5g6ci7XCysaUjaQUphB3Mo7rulxHRKcI\\\n",
       "xoeP59Hhj/Kc5Tle/8XrLGYxK1hhvudiFpNHHj999qfs6Ljjqn9m0X7Ye16phw9w86NP1Dp8qG2h\\\n",
       "lHJgH3u/Wou7l5dZFn9w0wYKL2Th6evHlJ88AMCm999izB1zSD92iN4jx9Bz0LVm723nms9I2pPI\\\n",
       "6MkxzH3+L9z6o9tJSE9gJjPNP+IA8484e3j179/fqU21DXleTtl/W6GMObu2Jzo6WicmJrZ0M1qd\\\n",
       "uu6aXPN4Un4SL+98mR8P/DEv/PACaUVpDAsdxoguI/B28+aWqFvMXtotUbeQkJpATM8YVp9YzZ7z\\\n",
       "e3Dv4A5AYmYik7pP4pcRvyQmJgZrhtX8y9MumWSe4Al0qGbBmwvo2qsrcwfOlV6UaHaWgny++sdS\\\n",
       "kvYkMvmeebXOHVkK8tnz9VoqSko5f+Y0KQf2mr21Na+8yNkjhwAYe9dcJsy+p8H3O5Swgd4jx3B6\\\n",
       "1w+kllZy593/4xReAPOYRzLJfPbxv+np2fGiubmdaz5j88oVdba5OSmldmmto6/omzSTVtcDE1dW\\\n",
       "XUUONY+vS1rHd2e/43Teac4WnwVgX9Y+3JQbu87vYs/5PWzP2M6k7pMAzMKO785+Z17T392fwSGD\\\n",
       "yUjOYOJPJpJ1LotYYs1hQ8c5sBhiiMuK461H3yI+Pl7CS1wR9nJ3e2+mrudMmH0PWz5ZScqBvURc\\\n",
       "O5zBMdM5lLCBs0cOEdA1jPzMDGqWktmDT2kYMGEKp3f9wOCY6QyOmc5X/1jKjs0JvLllN4EEspCF\\\n",
       "Tq9dyEKe4AkeeuhhfjZ2KOA8Nye9rdpJgLUz9iHCmJ4xrDi4wuxx1VX8UEUVAH5ufhRVFKGUMb4y\\\n",
       "MHgg7h3c+e7sd5RXlfPIsEe4JeoWhnQeQm5JLl8lf0VeaR7HUo9x8NmDVORVAJgT1QkkkEceT/CE\\\n",
       "EV624+np6UydOpX9+/fTwbdDrb1FIS5VY6oP7c8pLy0FoHv/a/DxDzDDI3zAYLZ+8j6WwgK2fLKS\\\n",
       "yKEj2frxB5SVlnDuxFEAzp0+QdKeRPZ/+xXenQLYvzuRf27aQb7FWv8fcblxvL19P3Ofj2xSm9sr\\\n",
       "VyniEM3EHlYv73zZXBBc27Di3IFzmdR9EhnFGUT5R/HPG/7JnAFzyCjKYM6AOczqN4vuft0J9Axk\\\n",
       "e8Z2ANYlrcNaYSXIK4iXJr6Ev7s/FT4VBE1xDp844vAM82TBawuo7FzpVH0FEH59OAVuBbJoWVyy\\\n",
       "unbdsBdo7P1qbZ2vtc+TeXh4MvauuZSXlrLlk5WA0StKP3aIlAP72Lf+C7Z/uop1f3+ZlIN7zfDy\\\n",
       "79KVMXfMwb9LV/LOZXDy4H5eT9hOvsUKGP/+l7GMJ3jCHD5fxjLz/wcXcnO59Ue3mztzXM4ejW2d\\\n",
       "9MDaIXtV4aTuk4jtG2sGhbXCirebNzE9Y0hITeChoQ+RVphGUkESu8/v5ru07zhbfJbv0r4jyCuI\\\n",
       "j459BECQZxDWCivvHnrXfI+IThEUlBvrv0b97yjoBl++8SUAAaEBLFi+gA+zP2TE70ew9fdbzR7a\\\n",
       "iHtGUHJ9CS/vfJkXJr4AGL1Fe8GIzI2JxqirTN5eoGH/XpvBMdMpLymhrKyUrKTTpBzcC4CHpxej\\\n",
       "br+TwTHTObV7hzkX5uXXiarKKkosxZRbLRScz2TrJ+/jGxBEwflMfD09mDRoIF/s2me+Rxxx+Ht7\\\n",
       "8vSdd/Pm2q+Jy4tzasOtkyfg7e5mtgec16JJT8wgAdYOOQ4X2ntkOSU5fHH6C1IKU8y5rEndJ5FU\\\n",
       "kESUfxT9AvuRX2b8NRvoGWheq5N7J3JLc9lzfg+DgwdzKOcQod6hpBSmAEaQ/f36vxN4ayBTCqdw\\\n",
       "5MsjTH5hMnMmzaFbajeu63IdL/i8wNfPfM3D8x/m4Scf5sUfXqRPYB+zjfY1aIBZASlEfeqaMxpx\\\n",
       "0ww8PL3oPXIMWz9eWecCZK1g139XAxAxZDjhA69hcMx0c56rqqISgE6dQ1Ed3SjMzgLAzd2DivIy\\\n",
       "Ug7sY9iNt1Gcn0vB+UxmjBpGmdXCN4dPAODv7cmTs2YwNiaGYSNH8av/e4WMjAwAHpgzm4FVFg4l\\\n",
       "bDD3Zhx1+51s/Xgl2z5bRXlJCePvrr94pL2QAGtHHIcKHUMgyCuIU3mnSClMIcgziIeGPsSobqO4\\\n",
       "rst1Zg/s2e+fpai8CIBe/r2wVlgZ220s1kor+7L2sS9rHxGdjN1PSiuNuQN/d3+mRUwDjFuodLuj\\\n",
       "G+Xjy0nySGJd0jq83byJ8I/gjXve4IMBH3Bv9L0EeQUxPnw8r+x6hWAvY92MfQ3aiC4jZIGyuCz2\\\n",
       "MNi55jO2fWasNbT3rKC65xY9YxYRQ4YTGtWb0Q4b/O5c8xnbP61eo+jfuau5kBmgoryMwG7h5J1L\\\n",
       "x9vfn0GTp7H901UU52Rz0xCjNP6HpBR+fsNkvMtL2Lf+CwBe/d0zLHh+CQ8++CCPP/gAm95/66IF\\\n",
       "yo3pPbY3EmDtSG0ViPZQcxwufGP/G+Y2UUkFSQR6BpJbmksHOlBFFd+f/d4cHrwh4ga6+3ans09n\\\n",
       "7uhzB8v2LGPBiAW8d/g9kgqSePfQu2xK3URSQRIAbn5u9PDrYe7aYbf81HL8Av2YN2SeU6HJuqR1\\\n",
       "PDLsERk6FE3S0DZL9mFCrZx7afbjZ48fIeXgXiKHjbjoZpTJ+/eQcmAvAFWVFYz80SyUhsKcbM7s\\\n",
       "20Wnzl0oKSoirM9AuvXtS/qxI6Qc2It/aFfm3tyLiadO4OvpQWC3cHoNHYFPJ3+G3zyDqXf/mJCQ\\\n",
       "EDa9/w5JexLxD+1KQGgXc8hw4PgpZJ46wcDxU67sfzwXIgHWDtS2PZSdPdR+NfJXvHfLe+ZwXdzJ\\\n",
       "OM4VnQMgrzQPT+VJqS6lAx3M8ALYnrGdwvJCzhaf5YL1ArmluXx15ium9JxC8IVgFIrEzETGdhvL\\\n",
       "wJCBHM05yvaM7Xi7eV90qxT7z/bdNFYcXMHr+15nUvdJ5JXmSUWiaLT6ys7tw4TDb55x0VySj38A\\\n",
       "7l5epBzYS9SIaPP1jpWAt/3iSdb85SXOHj1Ixomj9Bs9jlG338mbP/8ZJcVFpNrmzL5d8Q/ueeEV\\\n",
       "uve/hqqKCtKOHMTL1w9fTw/cPDzJO5eOf2gXfDr5Yy0s5OjWTZSXlnL8hy0AJO/bTX5mBuUlJbh7\\\n",
       "eVFeYuyr2HPQtYR073EF/+u5DgmwdqC+DW5j+8ZirbBirTAqpF6Y+IIZFPd+eS8Anh08Ka0yhgWr\\\n",
       "qCK6azRJ+Ulkl2TTxbsLheWFAFTqSsaGjSXSP9Is6BgbNpb7B9+Pt5s3cwfOJa80jxd/eBFrhZVb\\\n",
       "om6pdUjTsW2Oa8vs32UOTFwKewhZ8vNJXLuastKSWhciOxZN2Bchb1zxOikH9pG8bw+3LXiSnkOu\\\n",
       "5ezRg0RcO5zwAYNZvWQRnj6+TtfRVVXsWPMZu/67mrB+AwEoKS7Cy68TJUWFePl1IuXAXlIO7DXL\\\n",
       "7u2Cwntw08O/JP3YIcpKS9i8cgUR1w53ulWLkABrF+pa42XvmQFOW0TZA+LFiS/y7PfP0sm9E4dy\\\n",
       "DtHDrwfTe03H282bxEzj/2yB3oHMCZvDV8lfca74HD8e+GMzDCM6RZgl9vbv3m7ebM/YzvaM7ea2\\\n",
       "U3BxKNnb9uSoJxnVbRQxPWMY1W2UzIGJRqltCNF+LOLaYQAXLUS2c5wns287lXLAqCBMObiXvV+t\\\n",
       "xVpYQGC3MMbPvpcf/vMRSXsS6T5wCN7+AVgL8nHz9KLwQhZZSacBKMoz7nEX2C2MXkOvY9/6Lygp\\\n",
       "KsS/S1c6hXRmzB1z6NqnH+WlpXh4eJq9w+4DBmIpyCfzlBFwkUNHSAWiAwmwdqCuW5DYe2aPDHvk\\\n",
       "ouE8gGFdhnFX/7t4ZdcrTOo+iSdHPcnqE6vZeW4nt0beyv4L++kX2A8vNy/ySvMY222s0zXsZfm5\\\n",
       "Jblsz9hu9ro+Pf4pKYUppBSmEOUfZQ5t1tY2wCz1b8zwYV1bZYn2pbYhRMeelX2XDLv69hrsPXIM\\\n",
       "3Xr3o6ysFHdPT8pLSs3ii6//+VdueviXAIy5Yw5Hvo/nzL49TL3/IbLTkp16bwFdw8g7l8E1E/wZ\\\n",
       "e9dc0o8a82wF5zP54T8fmTvZ1yyTt+8esufrtZSXlGApyJcQs5EAa8dqltM39Jy4k3Hm0GCUfxRp\\\n",
       "RWl8dOwjhoUaf9EODBnodJ13D73LI8MewcvNC4ADWQcASClMYWTXkbgrd7af205CagJRAVH1vm9j\\\n",
       "7/El9wMT4Hzvr9qO1ZxDqq3H5vj84TfPMAPOvgi6o4cnuelppB87xKynF7FzzWdmsO368j906dWb\\\n",
       "o1s3ERrZh5QD++g3ahwAZ48fZtq8Rxhx0wz2fL2W1IMHSNqTSG56OnmZ6U5tcGy7h6cXm1euwN3L\\\n",
       "q93e/6smCbB2zLFn5thzAZx6MfYQiekZQ05JDkdzjvLz4T/n73v/zvaM7bh1MP4Z2Xtbq46uYue5\\\n",
       "nQB8cfoLxoePB2DX+V24dzQ2+R3dbTRzB851ek+7mr2optzjS+4HJhqjZo+rob0G7QFXVlpCRWmp\\\n",
       "uR+iY6GHWcFoqzq0VypGz5hlbgb81T+WknJgH5vef4tZTy9iwux72KpXcvboQfIy052uV5Psh3gx\\\n",
       "CTABVPdcdp7byZDOQ8wS93lD5jn1an4d/WvzNf83+f/MYEtITTCDzv7aIM8gUgpTCM8P55FhjwDV\\\n",
       "O9fbw6m+oU37+zd0F2ZHTXmuaL9q9rhq67E5st88sqKklMS1xgLnqBHRjLljDl/9YylTfvIAId17\\\n",
       "MP7ue7AU5LPmlZc4e6R6fZj92vZbsNi/g9G708qYk6tZGVnbzTVFNQkwAThX/A3pPMRpTqyuXo1j\\\n",
       "WNiHAO1VjQATwifw9z1/Z2DIQKd1XPbn1jVf1dhelMx3iaZwDIOm9mbsN4/s2qcfY++aS0WJUZX7\\\n",
       "5d9fpuB8JpXlFcz+3fOAMdwXMehaM8DcvDzN63h36kTPQdcCOG0LVddtWRpaz9beSYAJwAgjxxJ6\\\n",
       "x0Boag/o0eGPmo9HdB1h9siCvYKdrl1zD0b7uca+n8x3iaaoGQZNCQTHwLPfqNJ+LYDQqN5OATn8\\\n",
       "5hmAsWvGwPFTzLByvKFm0p5Ec41XXfsbyrBh/STAhOlKDr/ZFzBDddjUdvfnpry/zHeJpricMKg5\\\n",
       "fDc4ZroxH1ZSipuXJyNumnFRQNr3K3QMO8fKxp6DrjXXeNlfI5pGAkxcUXMHznXa4d4xbOyBmVuS\\\n",
       "a/bAmkLmu0RTNPcckoenl9NGwPZ5spp7GNbsvTm2YeM7/2Tkj2Y1WDwCEnC1kfuBtWO5JbmsOLiC\\\n",
       "3JLcK3ZtMHpVUQFRZkFGTfYgknks0ZC67vN1tdV2jy77PNnpXT84PdceWjWHCDe9/xYpB/eSk5ZS\\\n",
       "6/ChpSCf8pISxt4lu2/UxWV6YEqpm4FlQEfgLa31khZuksu7knNIMj8lroTW0iOpb6F0Y8OmtopE\\\n",
       "R4cSNrDts1VMvmeeLFyug9K6jv1UWhGlVEfgOHADkAbsBOZqrQ/X9Zro6GidmJhY12lBw1V8l1Pl\\\n",
       "JxWC4kqobceMtqqlPqtSapfWOvqqveFlcJUe2GjgpNb6NIBS6iNgJlBngImGNTSHdDm9KJmfEldC\\\n",
       "e1kL1Z6C+nK4SoB1B1IdHqcBY+p4rmgmUuUnRMtoLUOlrZ2rBFijKKXmA/MBIiIiWrg1rk96UUK0\\\n",
       "DFn/1TiuUoV4Fujp8LiH7ZgTrfVyrXW01jo6NDT0qjVOCCGaU12Vi8KZqwTYTqCfUipKKeUBzAHW\\\n",
       "tHCbhBBCtCCXGELUWlcopX4OfI1RRv+O1vpQCzdLCCFEC3KJAAPQWn8JfNnS7RBCCNE6uMoQohBC\\\n",
       "COFEAkwIIYRLkgATQgjhkiTAhBBCuCQJMCGEEC5JAkwIIYRLkgATQgjhkiTAhBBCuCQJMCGEEC5J\\\n",
       "AkwIIYRLkgATQgjhkiTAhBBCuCQJMCGEEC5JAkwIIYRLkgATQgjhkiTAhBBCuCQJMCGEEC5JAkwI\\\n",
       "IYRLkgATQgjhklpNgCmlZiulDimlqpRS0TXOPaOUOqmUOqaUuqml2iiEEKL1cGvpBjg4CMwC3nA8\\\n",
       "qJQaBMwBBgPhwAalVH+tdeXVb6IQQojWotX0wLTWR7TWx2o5NRP4SGtdqrVOAk4Co69u64QQQrQ2\\\n",
       "rSbA6tEdSHV4nGY7JoQQoh27qkOISqkNQLdaTj2ntf68Ga4/H5gPEBERcbmXE0II0Ypd1QDTWk+/\\\n",
       "hJedBXo6PO5hO1bb9ZcDywGio6P1JbyXEEIIF+EKQ4hrgDlKKU+lVBTQD9jRwm0SQgjRwlpNgCml\\\n",
       "7lBKpQHjgC+UUl8DaK0PAR8Dh4GvgMekAlEIIUSrKaPXWv8H+E8d514AXri6LRJCCNGatZoemBBC\\\n",
       "CNEUEmBCCCFckgSYEEIIlyQBJoQQwiVJgAkhhHBJEmBCCCFckgSYEEIIlyQBJoQQwiVJgAkhhHBJ\\\n",
       "EmBCCCFckgSYEEIIlyQBJoQQwiVJgAkhhHBJEmBCCCFckgSYEEIIlyQBJoQQwiVJgAkhhHBJEmBC\\\n",
       "CHEFWYvK2L3+DNaispZuSpvTagJMKfWyUuqoUmq/Uuo/SqlAh3PPKKVOKqWOKaVuasFmCiFEkxzZ\\\n",
       "msG21ac4sjWjpZvS5rSaAAO+AYZorYcCx4FnAJRSg4A5wGDgZuAfSqmOLdZKIYRogmvGhzFuVh+u\\\n",
       "GR/W0k1pc1pNgGmt12utK2wPtwM9bD/PBD7SWpdqrZOAk8DolmijEEI0lbefB9fd2AtvP4+Wbkqb\\\n",
       "02oCrIafAutsP3cHUh3OpdmOCSGEaMfcruabKaU2AN1qOfWc1vpz23OeAyqAlZdw/fnAfICIiIjL\\\n",
       "aKkQQojW7qoGmNZ6en3nlVL3AzOA67XW2nb4LNDT4Wk9bMdqu/5yYDlAdHS0ru05QgjRVliLyjiy\\\n",
       "NYNrxoe1yyHKVjOEqJS6GfgtcLvW2uJwag0wRynlqZSKAvoBO1qijUKI9qux5fDNWTbf0LXae4Xj\\\n",
       "Ve2BNeDvgCfwjVIKYLvW+mGt9SGl1MfAYYyhxce01pUt2E4hRDtkD4uK0krcPDsSNawzSfsuXNT7\\\n",
       "sT8P4Lobezldw7HHZCktJCQk5KL3STuTwfljZVwzPqzeawFmZWN7rXBsNQGmte5bz7kXgBeuYnOE\\\n",
       "EO1MQ8Nx9pAoL61k2+pTnD2eS8rBHMA5XOoLFXsgvfH+UtZu/IT4+Hj69+9vnj9+/DgTx08mOvIm\\\n",
       "nn/xDw0GlL3Csb1qNUOIQgjRUqxFZWx493C9w3H2sBg6tQfjZvVh4ux+jLotkvLSSnIzi82hPm8/\\\n",
       "D7P3VHPo75rxYewvXsPyD5aRnp7O1KlTOX78OGCE19SpU8nKzmTdrn/xWcJbUoLfAAkwIUS7d2Rr\\\n",
       "BikHc4gYElzvcJxjLy2oqy9unh1J/CKZ7z854RR+dc1N/enPL7L8g2Xm4/T0dCaOn8zqT+OIiZlK\\\n",
       "enq6ee7Fl55n0aJFzftB25hWM4QohBAtxXGorr7ejuOc1DXjwygvrWTUbZH0HBwMQNSwzhddzy47\\\n",
       "O5vly990ul4ssSRkJ3Dn7DsIJJBYYokjzjz/5ptv8sC8hzh/rKzOObf2THpgQoh2z3GozrHyr+bP\\\n",
       "FaWVRN8WaQ4RJn6RTOaZAlIO5ZByMIekfRfM69UcRgwJCeG15z8gwMco3IgllgUsYClLiSSSpSxl\\\n",
       "AQuIJRaA8PBw4uPjOX+sjG2rT13UyxPSAxNCCCeOvayK0kp2fpFM6uEcQnr6se+bVKJvi8Tbz4Oo\\\n",
       "YZ05siWdlIM5BIf5EjEkmLC+Aexef8aY64pPI/GLZMpLKxnzo94A3Hz3BJYkv83Tf/kZCZYEZjKT\\\n",
       "SCJZwQoAkkkmgQQzvPr374813AjO8rJKuvTyb7cVh7WRHpgQok25lHVYjq9x3HzXvhtC2tFcspIL\\\n",
       "AEg/nktuZjGbVx0nL9OKf6gXACkHc0j8MtnsJSnba5Xje3x9hlD/7jy34EXyyGMxi53asZjF5JHH\\\n",
       "8uXLzepEbz8P3Dw7svebVNw9O8rwoQPpgQkh2pSG1k45shdl2Hta4DxvNXSqsae4AsrKKkk/kU/6\\\n",
       "iXy+/+QEaUdzASjIKuFCahHRt0USMTiYqgqNtbCMQRPDcfPsyDXjw8wqx5SDOWTmpfLaV/+PQAJZ\\\n",
       "yEKn9ixkIU/wBPPnz2fd2q+pyOrENePDLppTa+87cNhJgAkh2pSmLO61h130bZFmr6tmANqH/3Iz\\\n",
       "i7mQWkhoz04MmhhOfOlRMk7k4xPgTtrRXDr39OP0nizSjuaSdjSX88kFhEb6s/vrM2SlFnL2aB4E\\\n",
       "5vHaR0+Sk59FLLFEEkkyySxmMQtZSCSRxBBDXHoc02+YzsPT/wTEcN2Nvbjuxl5mT9FSWMa+b1Kd\\\n",
       "hifbIwkwIUSb0pTFvTWrD61FZWZloWMAWovK2LzqOGeP5hHeJxAvX3c6djRmYEqKjLtAndh5Dv9Q\\\n",
       "H/M19t6aXadwza+XPUJOfhaAWW2YQAJ55PEETxjhZTuelZ3JPzc8xfw/7TGvYQ/XHgODAKgoq2TH\\\n",
       "f0+jMXqL7a03JnNgQoh2yzHsdq8/w66vz5D4RbI592WfFzuyNcMcMiwrqzQfu3l0oKrSeHZxXjlo\\\n",
       "6NrbH3dv41drB4cugqebH6OibnZ6/zji8A7zYe3atXiH+TiV0AM8+vOHCQkJuWh+bvLc/oyb1Qd3\\\n",
       "j47s/CKZxC+S22V1ovTAhBDtnr1nE94vADB6NjXXfKUeziHtaC7ZqUUMntvf3ErK3bsj5dZKPLw7\\\n",
       "knEyn4ghwZRbq0BBVUX1exRklXBb9H10dFOs/eE9ADoHd2HZ7/9FaFUUy37/Lx789f+Qb8kG4Le/\\\n",
       "fobbx89zqmZ0t82peft5EHSjr1moommf+yFKD0wI0e5dMz6MUbdFUmW7i5MGp6FEbz8PJs/tT2BX\\\n",
       "b9KO5vL9JyeYOLsfQ6aE4+XjTtfe/pRZK+nauxO5GcV4eHcEhxs6dXBTlFmNPcjvm/Vz7r7hQToH\\\n",
       "d+HVRe9zfq9i5xfJqHx/nvyfZQT4hDDnloeYNeUBtq0+hQLGzepDRZmxB+P++DTzut5+Hoz+UW/G\\\n",
       "/Kh3uxs+BAkwIYQwS9XPnSwgYkgwHh7GFlEZp/LZH59GbmYx339ygrxMK15+buai5bSjuRRml2Ap\\\n",
       "KCNiSDCW/HIKs0vRgG+gB76B7nSN6kRVhZFm/p29yDxdwFO/eY6jxw/TJ9LYw9zL143MpEICPcL4\\\n",
       "3Y/fZmLE3WZwXTu1B9fd2At3j45AdVm+o+a8hYsrkSFEIUS75ViOXrN6MfNMASkHjWHD87afvfzc\\\n",
       "KCmqMPdMDOsbwMb3jtBjYBAHN6UzYHxXTiWWUW6tRFdqKsqq8A/1wT/Ui4KsEnoODqYwu4SwvgEc\\\n",
       "ScgiK7mAsL4BZJzMp1OIsZ6MbAjs6k2/0V0J6uprtvXaqT3MsvyamrJ0oC2RABNCtFs1f/E7/vKf\\\n",
       "fv8gDsSnUVZWSWlxOZ6+1eE1/f5B5pBd3+iuFOWW4B/qhbt7RyrKqvD0caPUUkFH9w4EhHqTcSKf\\\n",
       "ju6K88kFZJ0pAjBvxdJjYBARQ4JJOZjD8Bt6krT3AnmZVk7syGS0Q4l8fdWVjuHbntaISYAJIdqt\\\n",
       "+taM2eeXdq8/w75vUgHw8nMj+tZIDsSnYSkqI+VgDoXZJeZrUg/nEn1bJKmHs8lMKqSyvIr881YA\\\n",
       "Kss1WWeK6DEwiImz+3EoLJ3s1CJG3x5FyqEcuvbyp7yskvws4/kW27BgY4KoZjVle+mNSYAJIdqt\\\n",
       "htaMWYvKsBSW0bW3P5b8MgqzS/jm7cNOoWXn6etGfpYVd8+OXH//INb+fR8FWSV0ifKnsrKS80lF\\\n",
       "5nO9fN2ZeGc/wAicxC+SGTerDxaHOaz8TCuHNhm3V2nsjiK1DYW2ZRJgQoh2r+awm/1xeWml2fsa\\\n",
       "fkNPcjKKzaE/3yAPAjp7Exzui7efB/1Gd+X4jkwqSispKS7HP8SbqOGhjLypFyUTw9m86jiVlVWk\\\n",
       "Hc1lw7uHzWFIx8BZ/9YhAAJCvZk8t795+5SG1DcU2pZJgAkh2jXHfQrBCAB7IIy6LZLuAwONbaCA\\\n",
       "oDBfSi0VdOigmPqTgU5FFgDunh2NUveEVEqLK9FovP08zIXPw27oibXAGHo8sjXDvIWLPXAmz+1v\\\n",
       "lugHdfUl6Ebn6zu22TFw21Ovy1GrKaNXSv1RKbVfKbVXKbVeKRVuO66UUq8qpU7azl/X0m0VQrQd\\\n",
       "td2N2b7jxbVTe3DTA0MYN6sPbh4d2fdNKpmnC+g+IIikfRcuKlu/ZnwYEUOCKS021nyF9uwEGDe6\\\n",
       "jBgSjALyMq30GBiEpbCMHf897XTfMS9fd3708+EXBWNtbXa8N5jj/czak9bUA3tZa/07AKXUL4Df\\\n",
       "Aw8DtwD9bF9jgNdt34UQ4rLVdjfmmnNj9o10oXod1rbVpzh7PNepItHbz4Pp9w9if3waCqP0HSBp\\\n",
       "3wVSDubQpZc/42b1oby0kkTb7vdunh3N3fArSiudKg8b0+b2rNUEmNa6wOGhL9Xr2GcC/9Jaa2C7\\\n",
       "UipQKRWmtW5/G38JIVqMt5+HufO7tajMXCdmHwqs7Xn259rv5GzfcNcxDO03vwSnzTsabEt7meeq\\\n",
       "T6sJMACl1AvA/wL5wFTb4e5AqsPT0mzHJMCEEJftUhYB23ta9nmohq6/01Zl6NhTcwy5oVN74O7Z\\\n",
       "kahhnWstnW9Pa7ua4qoGmFJqA9CtllPPaa0/11o/BzynlHoG+DnUuNtbw9efD8wHiIiIuNzmCiHa\\\n",
       "gUsdjmtsL6i+6zsG03U39jLXcFWUVpq7btiLQNrL2q6muKoBprWe3sinrgS+xAiws0BPh3M9bMdq\\\n",
       "u/5yYDlAdHR0Y3vjQoh27EoPx9V2fccyfftc2HU39jJDrry00imwZM6rdq2pCrGfw8OZwFHbz2uA\\\n",
       "/7VVI44F8mX+SwjRUppj41x7j8q+YW/NLaCGTu1hHof2W2XYkNY0B7ZEKTUAqALOYFQggtETuxU4\\\n",
       "CViAeS3TPCGEaJ6Nc2urfKy5BZQMFTas1QSY1vrOOo5r4LGr3BwhhKjVlRrOk2HCpms1ASaEEK6g\\\n",
       "OebMauvFSWl800mACSHEVSa9reYhASaEEFeZ9LaaR6upQhRCCCGaQgJMCCGES5IAE0II4ZIkwIQQ\\\n",
       "QrgkCTAhhBAuSQJMCCGES5IAE0II4ZKUsVNT26OUysLYU7GldAYutOD7N6e28lnayucA+SytVVv4\\\n",
       "LL201qEt3YjGaLMB1tKUUola6+iWbkdzaCufpa18DpDP0lq1pc/iCmQIUQghhEuSABNCCOGSJMCu\\\n",
       "nOUt3YBm1FY+S1v5HCCfpbVqS5+l1ZM5MCGEEC5JemBCCCFckgRYM1JKvayUOqqU2q+U+o9SKtDh\\\n",
       "3DNKqZNKqWNKqZtasJmNopSarZQ6pJSqUkpF1zjnUp8FQCl1s629J5VST7d0e5pCKfWOUuq8Uuqg\\\n",
       "w7FgpdQ3SqkTtu9BLdnGxlJK9VRKxSulDtv+fS2wHXepz6OU8lJK7VBK7bN9jsW241FKqR9s/87+\\\n",
       "rZTyaOm2tmUSYM3rG2CI1noocBx4BkApNQiYAwwGbgb+oZTq2GKtbJyDwCxgs+NBV/wstva9BtwC\\\n",
       "DALm2j6Hq3gX47+1o6eBb7XW/YBvbY9dQQXwa631IGAs8JjtfwtX+zylwDSt9TBgOHCzUmos8Cdg\\\n",
       "qda6L5AL/Kzlmtj2SYA1I631eq11he3hdqCH7eeZwEda61KtdRJwEhjdEm1sLK31Ea31sVpOudxn\\\n",
       "wWjfSa31aa11GfARxudwCVrrzUBOjcMzgfdsP78HxF7NNl0qrXWG1nq37edC4AjQHRf7PNpQZHvo\\\n",
       "bvvSwDTgU9vxVv85XJ0E2JXzU2Cd7efuQKrDuTTbMVfkip/FFdvckK5a6wzbz+eAri3ZmEuhlIoE\\\n",
       "RgA/4IKfRynVUSm1FziPMfpyCshz+CO2Lfw7a9XcWroBrkYptQHoVsup57TWn9ue8xzGUMnKq9m2\\\n",
       "pmrMZxGtn9ZaK6VcqpxYKeUHfAb8UmtdoJQyz7nK59FaVwLDbXPd/wEGtmyL2h8JsCbSWk+v77xS\\\n",
       "6n5gBnC9rl6jcBbo6fC0HrZjLaqhz1KHVvlZGuCKbW5IplIqTGudoZQKw+gFuASllDtGeK3UWq+2\\\n",
       "HXbZz6O1zlNKxQPjgECllJutF9YW/p21ajKE2IyUUjcDvwVu11pbHE6tAeYopTyVUlFAP2BHS7Sx\\\n",
       "GbjiZ9kJ9LNViHlgFKGsaeE2Xa41wH22n+8DXKLHrIyu1tvAEa31Kw6nXOrzKKVC7VXGSilv4AaM\\\n",
       "+bx44C7b01r953B1spC5GSmlTgKeQLbt0Hat9cO2c89hzItVYAybrKv9Kq2DUuoO4G9AKJAH7NVa\\\n",
       "32Q751KfBUApdSvwV6Aj8I7W+oWWbVHjKaVWATEYO51nAguBOOBjIALjrgt3a61rFnq0OkqpicB3\\\n",
       "wAGgynb4WYx5MJf5PEqpoRhFGh0xOgIfa63/oJTqjVEkFAzsAe7VWpe2XEvbNgkwIYQQLkmGEIUQ\\\n",
       "QrgkCTAhhBAuSQJMCCGES5IAE0II4ZIkwIQQQrgkCTAhhBAuSQJMCCGES5IAE0II4ZIkwIQQQrgk\\\n",
       "CTAhhBAuSQJMCCGES5IAE0II4ZIkwIQQQrgkCTAhhBAuSQJMCCGES5IAE0II4ZIkwIQQQrgkCTAh\\\n",
       "hBAuSQJMCCGES5IAE0II4ZL+Px1k9ROKUXl+AAAAAElFTkSuQmCC\\\n",
       "\"\n",
       "  frames[1] = \"data:image/png;base64,iVBORw0KGgoAAAANSUhEUgAAAbAAAAEgCAYAAADVKCZpAAAAOXRFWHRTb2Z0d2FyZQBNYXRwbG90\\\n",
       "bGliIHZlcnNpb24zLjUuMiwgaHR0cHM6Ly9tYXRwbG90bGliLm9yZy8qNh9FAAAACXBIWXMAAAsT\\\n",
       "AAALEwEAmpwYAAAhZklEQVR4nO3de3xU5b3v8c9Pwi0gJAREBkiDhalFGilGqravbYKotFJJtXZr\\\n",
       "a8um7sRe7M6mPW29nNMkPcdde9xHtr3YmuyW2pdurReMFKoo7onXokZBBIEBSlAYihATUMJF5Dl/\\\n",
       "zIUZSCBgkjVr5vt+vfLKrOdZM/ktyLy+Wc961jPmnENERMRvTvG6ABERkZOhABMREV9SgImIiC8p\\\n",
       "wERExJcUYCIi4ksKMBER8SUFmIiI+JICTEREfEkBJiIivqQAExERX1KAiYiILynARETElxRgIiLi\\\n",
       "SwowERHxJQWYiIj4kgJMRER8SQEmIiK+pAATERFfUoCJiIgvKcBERMSXFGAiIuJLCjAREfElBZiI\\\n",
       "iPiSAkxERHxJASYiIr6kABMREV9SgImIiC8pwERExJcUYCIi4ksKMBER8SUFmIiI+JICTEREfEkB\\\n",
       "JiIivqQAExERX8rxuoCeMnz4cFdUVOR1GSIivvLqq6/udM6N8LqOrsjYACsqKqKpqcnrMkREfMXM\\\n",
       "NntdQ1dpCFFERHxJASYiIr6kABMREV9SgEmXtbS0nFC7iEhPUoBJl9TU1FBcXEw4HE5pD4fDFBcX\\\n",
       "U1NT401hIpK1FGByXDU1NdTW1hKJRCgrK0uEWDgcpqysjEgkQm1trUJMRHqVAkwO29MCL9wZ/R4T\\\n",
       "D6+4eIgtXrw4EV5xCjER6U0KMDlsxb3w1E+i34le26qvr0/ZpZxy2iPtzJw5k/ZIO+WUp/TX19fr\\\n",
       "mpiI9IqMvZFZTsLka1O+FxQUEAqFEmda5ZRTRRWzmEUttVRTTRFFADTQQCAQIBQKUVBQ4NEBiEg2\\\n",
       "0RmYHDaoAD5bFf0eEwwGCS1eQGD4UBpppJlmiihiPvMpoohmmmmkMRFewWDQwwMQkWyiAMsGHVzb\\\n",
       "OhHBPcuou/gAbbRRS21KXy21tNFGXV2dwktEepUCLBsccW0rITnYjhFy4UHnUflUP/LIo5rqlL5q\\\n",
       "qskjj8rKyqOm2IuI9CQFWDaYfC1c/NPD17jikoMt+XFSmIXDYcouu4LIzl2UUpoYNpzDnMRwYiml\\\n",
       "R02xFxHpaeac87qGHlFSUuK0Gn0H9rTAC/PgrZfg0EHoOxBm3hntW/QvgMHoKfDiL2mZ+mOKK36d\\\n",
       "MlW+nHIaaaSNNvLIo5RSGmhI9AcCAVauXKmJHCJJWlpaOnxPdNbuJTN71TlX4nUdXaEzsGyQPDy4\\\n",
       "4l548Zew5WWIvAabX4DHvg33/yNsfjG6vbERhk+gYNLFVFRUpLxUAw3kBnJZtGgRuYHclPACqKio\\\n",
       "SLs3pIiXtIpNz1GAZYPk4cHJ18K5/wy5ww/3b3kF3t14eHv7G7BzPTz9E2ouzqf6ph8muuKzDS+7\\\n",
       "7DJCoRCBQCDRV11drTejSBKtYtOzFGDZYPK1cOGNcGBPdDsnF9p3Hv95296Ap35CzWWjqa6uPmqq\\\n",
       "fDAYTISYwksklVax6Xm6BpYtXrgzehZ28U8hvCQ6VNgVw86A65bCoAJfjeOLeKmlpYXi4mJfXj/W\\\n",
       "NTBJP8kzEUdP6frzPn5R4sbmzt5YXr/hRNJNfBWb+BB7fBWbecyjiCLmMY8qqhJLsWkVm5OTVgFm\\\n",
       "ZgPM7GUze93MVptZbax9nJm9ZGYbzOxPZtbP61rTWkf3dMVX2QDoOwhGTT72a5wS+yfuOwBCP4PQ\\\n",
       "v530jdAi2Sh5iF2r2PSMtAowYD8wzTl3NjAZmGFm5wE/B+Y558YDrcB13pXoA53duAzw8t3wzG0w\\\n",
       "7h9gwiXRNov9GgwZA0PHwqhPwzmzo9fN+g6K7v/Mzzt+PRHpVDAYpK6uTqvY9JC0CjAX9X5ss2/s\\\n",
       "ywHTgIdj7ffAEUugS6rOblwGwKLf+uZC+W+jIeYOwfAJ8PUGmLsKJn0JXqmHfrkwtTIaZBf+uJPX\\\n",
       "E8lu7+45wN3PbOTdPQeO6guHw1RWVmoVmx6SVgEGYGZ9zGwF8A7wFLARaHPOHYztsgUY7VF5/tDB\\\n",
       "orwJUyuj4Ta1Mtpf/tvo9pwlMGJCdJ/kABxUAGU3QdnNHb+eSBZKDq2Hmt7mZ4+v5aGmt1P2SZ4q\\\n",
       "f7Kr2BwrHCWNZyGaWR7wKPC/gD/Ehg8xs7HA4865SR08pxKoBCgsLDxn8+bNvVewn8VvcI4Hloh0\\\n",
       "KB5Y7Qc+5M6n13PT589k+sSR3LxgJe/tPciufR9w0Zmn8Y0pw7nw/JKPPAvx7mc28rPH13LT58/k\\\n",
       "+gs/3ivHqFmI3cA51waEgPOBPDOLf3bZGGBrJ8+pc86VOOdKRowY0TuF+k1HEzyOdc1MRBLuebE5\\\n",
       "cbY1pTCP58I7uOj/PcNLm1p58+/vsbVtH39c9haz/+tNzrywPOW5J7OKzVUlY7np82dyVcnYHj4y\\\n",
       "f0qrADOzEbEzL8xsIHAxsIZokH05ttts4DFPCvSLY318SkdhdcxrZiISH8rbeyB6JSOyax+vvdXG\\\n",
       "8xs7npm7tW0fGwu/wKSZh+ebBQIBHl28hC2Dz+TRxUu6tIrNsEH9uP7CjzNskCZedyTdPpF5FHCP\\\n",
       "mfUhGq4POucWmdmbwANm9n+A5cDvvCwy7cVDCg5PnY874lOXgdQp9iKScOSQYdVFExh5an+2v7e/\\\n",
       "S89/76wvMe3U/qx9poFQKERoW5/EkGD8084rKiq0CsdJSttrYB9VVq/EoWtaIt0ifg2q6qLx5PbL\\\n",
       "4dyiYcz5w8vs2nvw+E+O+cy4fO768icoKChIBOJVJWMZNqhfWq5i46drYOl2BibdQWdUIt0ifu0p\\\n",
       "Hjhz5kfD69QBfThw0LH/4KEOnzdycD9GDh3Ayq27OXtMfiKk4kOCcekWXn6jABMR6cSRgfM/Z04E\\\n",
       "3ox9h+rHVjNx1Kn849RCFq7YChizLyhi2KB+KWdb0jM0hCgiIgl+GkJMq1mIIiIiXaUAExERX1KA\\\n",
       "iYiILynARETElxRgIiLiSwowERHxJQWYiIj4kgJMRER8SQEmIiK+pADrIS0tHX/MQmftIiJyYhRg\\\n",
       "PaCmpobi4uKjPiI8HA5TXFysj04QEekGCrBuVlNTQ21tLZFIhLKyskSIhcNhysrKiEQi1NbW8qPL\\\n",
       "L+dga6vH1YqI+JcCrBvFwysuEolQVlrK/VVVlJWWEolEEn23//nP3Dx7thdliohkBAVYN2lpaaG+\\\n",
       "vj6lrZxy2rft5au/+AXt2/ZSTnlK/31NTbomJiJykhRg3aSgoIBQKEQgEACi4VVFFfOYRxFFzGMe\\\n",
       "VVQlQiwQCBBqbNQH2omInCQFWDcKBoOJEGukkWaaKaKI+cyniCKaaaaRxmh4hUIEg0GvSxYR8S0F\\\n",
       "WDcLBoPU1dXRRhu11Kb01VJLG23U1dUpvEREPiIFWDc52NpKy+9+x5uvvEJlZSV55FFNdco+1VST\\\n",
       "Rx6VlZVHTbEXEZETowA7jngwdTTlff+mTbx1/fW0r1hB5MYbefnWf+OiSy4hEolQSmli2HAOcxLD\\\n",
       "iaWUHjXFXkRETlyO1wWku10LFvDO7f/OofZ2TsnNpc/po9j+05/CqYM5tDUCzrHnpZdp27OHOZGt\\\n",
       "bN+/H4AGGgBopJE22pjLXEopTbTHQ2zlypWayCEichLSKsDMbCzwR2Ak4IA659ydZjYM+BNQBDQD\\\n",
       "X3HO9cpdwEOvuIKDLS28+/AjHNq+/XDHrl2HH+/bR16/flw5eDB3xQIMoiEWCAS4t+5eKisraYg0\\\n",
       "pLx2RUWFwktE5CSl2xDiQeAHzrmJwHnAd81sInAj8LRzbgLwdGy7ZwpIGjI82NrKrgUL2Ld2bWp4\\\n",
       "deTDD7lh+Ah+MH16oik+2/Cyyy5LmWIPUF1drSWlREQ+grQ6A3PObQO2xR6/Z2ZrgNHALKA0tts9\\\n",
       "QCPw456oIT5kGPfO7f+ODR3S5efPPXcqgz/7Werr61Omysen2JeVlVFRUaHwEhH5iMw553UNHTKz\\\n",
       "IuBZYBLwlnMuL9ZuQGt8uzMlJSWuqanphH9u/Kxr6BVXALDxsss49G7XRyv7FhYy/skltLS0dDg8\\\n",
       "2Fm7iEg6MLNXnXMlXtfRFek2hAiAmQ0GHgH+1Tm3O7nPRRO3w9Q1s0ozazKzph07dpzUz87Jz6fg\\\n",
       "uuvIyc8nJz+fsXfdhQ0Y0LW6hwwh8H9/DtBpSCm8RES6R9oFmJn1JRpe9znnFsSat5vZqFj/KOCd\\\n",
       "jp7rnKtzzpU450pGjBjRLfXkTp5M/le/CsApsfDpO358on/A5MnkjBlD3levYfySJ8idPLlbfq6I\\\n",
       "iBxbWl0Diw0P/g5Y45y7I6lrITAbuC32/bHerKug4p/JKRjG4GnTeP+//5vB06axe9EiwMi/9mvk\\\n",
       "5Of3ZjkiIkKaXQMzs88BzwFvAIdizTcDLwEPAoXAZqLT6N891mud7DUwEZFs5qdrYGl1Buacex6w\\\n",
       "Trov6s1aREQkvaXdNTAREZGuUICJiIgvKcBERMSXFGAiIuJLCjAREfElBZiIiPiSAkxERHxJASYi\\\n",
       "Ir6kABMREV9SgImIiC8pwERExJcUYCIi4ksKMBER8SUFmIiI+JICTEREfEkBJiIivqQAExERX1KA\\\n",
       "iYiILynARETElxRgIiLiSwowERHxJQWYiIj4kgJMRER8Ke0CzMx+b2bvmNmqpLZhZvaUma2Pfc/3\\\n",
       "skaBlpaWE2oXEeluaRdgwB+AGUe03Qg87ZybADwd25Zu1Lqvlfmr5tO6r/W4+9bU1FBcXEw4HE5p\\\n",
       "D4fDFBcXU1NT00NViogclnYB5px7Fnj3iOZZwD2xx/cA5b1ZUzZo2NDAHa/eQcOGhmPuV1NTQ21t\\\n",
       "LZFIhLKyskSIhcNhysrKiEQi1NbWKsREekG2j4SkXYB1YqRzblvs8d+BkV4Wk4nKx5fz/XO+T/n4\\\n",
       "8k73iYdXXDzEFi9enAivOIWYSM/SSAjgnEu7L6AIWJW03XZEf2snz6sEmoCmwsJCJ91n586dLhAI\\\n",
       "OCDxVU65yyPPAS6PPFdOeUp/IBBwO3fu9Lp0kYxTXV2d8j5bt26dc865devWpbxPq6urT/i1gSaX\\\n",
       "BjnQlS/PC+iwqKMDbB0wKvZ4FLDueK9xzjnndPX/S7oo+c1RTrkLEXLzme+KKHLzme9ChBIhlvym\\\n",
       "EpHukxxeySG2aNGio/7IPJkQ81OA+WUIcSEwO/Z4NvCYh7VkrWAwSCgUIhAI0EgjzTRTRBHzmU8R\\\n",
       "RTTTTCONBAIBQqEQwWDQ65JFMkpLSwv19fUpbeWU0x5pZ+bMmbRH2ik/YopAfX19xl4TS7sAM7P7\\\n",
       "gb8CnzCzLWZ2HXAbcLGZrQemx7bFA8FgkLq6Otpoo5balL5aammjjbq6OoWXSA8oKChI/BEJ0fCq\\\n",
       "oop5zKOIIuYxjyqqEiEW/2OyoKDAw6p7jkXPGDNPSUmJa2pq8roMX2nd10rDhgbKx5eTP6DjW+1e\\\n",
       "eeMVLpl+CbxD4k0T10wzc5lLbiBXZ2AiJ6l99y5WPLEIZ/DpS2eSO2ToUfvEZ/22R9q7/X1oZq86\\\n",
       "50o+6nH0hrQ7AxNvtO5r5Zbnb+GOV+/g/rX3d3hPWDgc5pLpl9D2ThullCaGDecwJzGcWErpUVPs\\\n",
       "RaRrWrZu4YHqH/PXR+5n2cP388Rd82jfveuo/TQSEqUzMAHgrhV38ZvXf8N5o85jVO4oHt34KGeP\\\n",
       "OJsflvyQX634FWNPGctvv/Fbtm3blnhOOeU00kgbbeSRRymlNNCQ6A8EAqxcuTJjhy9EPor23btY\\\n",
       "3biUs0qnJ86yFtxWw6blTQwdOYqhI0by1qoVjPt0CTO+MzflTExnYFE6AxNa97XyxKYnAFjTsoYn\\\n",
       "Nz8JwOs7Xuc7S7/Dsm3LeGjrQ5xbfm7K8xpoIDeQy6JFi8gN5KaEF0BFRYXCS+QI7bt38crCR1i+\\\n",
       "ZBHP3jef1Y1Ladm6hQW31TD2rLPJ6T+Az37l60z75rfIGxlg0/Imli9ZlHjuw7/5JaWl0ZGObB8J\\\n",
       "0RlYlopf75py2hTmNs5lx94dne5beGoh0wqn8c1J3+TO2+5M3MycPNsweSUOgOrq6uy4kVLkBL2y\\\n",
       "8BGevW8+5195Dc7AHGxauZy/r1/b6XPOv/IaLvjK13jq3j/w5cpvsXvv/kRfd4+E+OkMLMfrAqT3\\\n",
       "xa93Pbf1uS7tf+8X7gWiy01V3VgFRKfmJg9PxKfYl5WVUVFRofAS6cRZpdP5YN8+DhzYz47mv/HW\\\n",
       "GyuwUzofDOs/aDAvPfYQ726LcP6Xr2HGBefx4NPPJPobaCAQCHBv3b1UVlbSEGlIeX4mj4QowLJQ\\\n",
       "w4YGntv6HH2sDx+6D4+572kDT+OW529h9ODRPLDuAfYe3EtNTQ3f+973jnpTBINBXfMSOY7cIUPp\\\n",
       "O2AAf33kfgDMTsEdOtTp/vv3vA/AuhefYeS4M5i/4DGGXF/Bfz7wEJA6EhL/IzJbRkJ0DSwLlY8v\\\n",
       "59tnf5thA4Ydd9/W/a08t/U5Xoy8mNLeWUgpvESOrX33Lg7s30fJzCs4dfgInDt0zDOwBDNatm5h\\\n",
       "+ZJF3Hl3PdXV1UctGpC82ECmhxfoDCwr5Q/IZ2DOQHbs3cGQfkPYfWB3p/ueMeQMTht0GtcXX88L\\\n",
       "kReA6BBkZ/eJicixrW5cyrKH7+cfvjaHQfkFvLdzB6cVnYH1yTnmdTCcY3XjUwBs37ieH31/btaP\\\n",
       "hCjAslR81fnSsaU0vt3IlNOm8KsVv6JoSBEDcgaw7+A+mnc3c/Nnbmbc0HEAvPbOa9zx6h0MzBnI\\\n",
       "nElzvCtexMfOKp2e+N6+axd/X7+WsROLOXfWlTxx1zw2Le988tnpEz5BvwED2bS8idWNSzn38is7\\\n",
       "3C8bwgs0CzHrHGu1jfmr5nPHq3fw/XO+32FAdWWlDhHpuiPvBWvfvYsXH/ov1j7fyP72PQD0HZjL\\\n",
       "sFEBTh//CQYOGcKZF1zI3159KeX+se6kWYiStuIfXAkcFVLxs7LOPhMsf0C+zrxEulHukKEpZ1G5\\\n",
       "Q4Yy/bpvc8FVX2X5kkWYg8kzostJxaff9+s/oNMzr2yjAMsyxwopBZRIesgdMpTPXvW1lLbkoUeJ\\\n",
       "0hCiiEgXdbT8U6bx0xCiptGLiHTR6salieWfxHsaQhQR6SIN46UXBZiISBcdOelCvKUhRBER8SUF\\\n",
       "mIiI+JICTEREfEkBJiIivqQAExERX1KAiYiILynARETEl3wTYGY2w8zWmdkGM7vR63pERMRbvggw\\\n",
       "M+sD/Br4PDARuMbMJnpblYiIeMkXAQZMBTY45/7mnDsAPADM8rgmERHxkF8CbDTwdtL2llibiIhk\\\n",
       "Kb8EWJeYWaWZNZlZ044dO7wuR0REepBfAmwrMDZpe0ysLYVzrs45V+KcKxkxYkSvFSciIr3PLwH2\\\n",
       "CjDBzMaZWT/gamChxzWJiIiHfPFxKs65g2Z2A7AE6AP83jm32uOyRETEQ74IMADn3F+Av3hdh4iI\\\n",
       "pAe/DCGKiIikUICJiIgvKcBERMSXFGAiIuJLCjAREfElBZiIiPiSAkxERHxJASYiIr6kABMREV9S\\\n",
       "gImIiC8pwERExJcUYCIi4ksKMBER8SUFmIiI+JICTEREfEkBJiIivqQAExERX1KAiYiILynARETE\\\n",
       "lxRgIiLiSwowERHxJQWYiIj4UtoEmJldZWarzeyQmZUc0XeTmW0ws3VmdqlXNYqISPrI8bqAJKuA\\\n",
       "K4C7kxvNbCJwNXAWEACWmlnQOfdh75coIiLpIm3OwJxza5xz6zromgU84Jzb75zbBGwApvZudSIi\\\n",
       "km7SJsCOYTTwdtL2llibiIhksV4dQjSzpcDpHXTd4px7rBtevxKoBCgsLPyoLyciImmsVwPMOTf9\\\n",
       "JJ62FRibtD0m1tbR69cBdQAlJSXuJH6WiIj4hB+GEBcCV5tZfzMbB0wAXva4JhER8VjaBJiZfcnM\\\n",
       "tgDnA4vNbAmAc2418CDwJvAE8F3NQBQRkbSZRu+cexR4tJO+W4Fbe7ciERFJZ2lzBiYiInIiFGAi\\\n",
       "IuJLCjAREfElBZiIiPiSAkxERHxJASYiIr6kABMREV9SgImIiC8pwERExJcUYCIi4ksKMBER8SUF\\\n",
       "mIiI+JICTEREfEkBJiIivqQAExERX1KAiYiILynARETElxRgIiLiSwowERHxJQWYiIj4kgJMRER8\\\n",
       "SQEmIiK+pAATERFfSpsAM7PbzWytma00s0fNLC+p7yYz22Bm68zsUg/LFBGRNJE2AQY8BUxyzhUD\\\n",
       "YeAmADObCFwNnAXMAO4ysz6eVSkiImkhbQLMOfekc+5gbHMZMCb2eBbwgHNuv3NuE7ABmOpFjSIi\\\n",
       "kj7SJsCO8E3g8djj0cDbSX1bYm0iIpLFcnrzh5nZUuD0Drpucc49FtvnFuAgcN9JvH4lUAlQWFj4\\\n",
       "ESoVEZF016sB5pybfqx+M/snYCZwkXPOxZq3AmOTdhsTa+vo9euAOoCSkhLX0T4iIpIZ0mYI0cxm\\\n",
       "AD8CLnfOtSd1LQSuNrP+ZjYOmAC87EWNIiKSPnr1DOw4fgX0B54yM4BlzrlvOedWm9mDwJtEhxa/\\\n",
       "65z70MM6RUQkDaRNgDnnxh+j71bg1l4sR0RE0lzaDCGKiMjJa2lpOaH2TKAAExHxuZqaGoqLiwmH\\\n",
       "wynt4XCY4uJiampqvCmshynARER8rKamhtraWiKRCGVlZYkQC4fDlJWVEYlEqK2tzcgQU4CJiPhU\\\n",
       "PLzi4iG2ePHiRHjFZWKIKcBERHyopaWF+vr6lLZyymmPtDNz5kzaI+2UU57SX19fn1HXxBRgIiI+\\\n",
       "VFBQQCgUIhAIANHwqqKKecyjiCLmMY8qqhIhFggECIVCFBQUeFh191KAiYj4VDAYTIRYI40000wR\\\n",
       "RcxnPkUU0UwzjTQmwisYDHpdcrdSgImI+FgwGKSuro422qilNqWvllraaKOuri7jwgsUYCIivrZy\\\n",
       "+SrmzL6OPPKopjqlr5pq8sijsrLyqCn2mUABJiLiob3vH+C1Jzez9/0DJ/zccDjM9Iuns6NlO6WU\\\n",
       "JoYN5zAnMZxYSulRU+wzRdosJSUiko3WvLiNvy7YCMCUSz7G3vcPsDK0BQPGnjWMlxduYvjYwUy5\\\n",
       "9GOJ/T95wSja979HWVkZO1q2A9BAAwCNNNJGG3OZSymlifZ4iK1cuTJjJnIowEREPLD3/QOseXEb\\\n",
       "o8YPpXDSMIYFBvHYfyzng/0H2b7pPQBeWdwMwJa1rax+biv9BuSwp+0AB/d/yNQvnkFFRUXKfWAN\\\n",
       "NBAIBLi37l4qKytpiDSk/MyKioqMCS9QgImIeCJ+5lU4aRhvrXqXtu3t7N6xr9P9P9h3iA/2RYcZ\\\n",
       "1yzbxoSpIxM3JsdDLHm2YSgUSrmZubq6OuNuZFaAiYh44JMXjAJg3NnDWf+x7TSv2tHl577fsp/n\\\n",
       "H1rPF2+YzI//x81s29jGn59+KGWqfHKIVVRUZFx4gQJMRMQTAwf3Y8ol0etaOf37sGPzni4/d1Be\\\n",
       "Pz531QQAVoa2UDzocq68/etHTZUPBoMZdc3rSJqFKCLisXFnD2foiIFd3r9PzinkjxwEgMXa8obk\\\n",
       "d7hvpoYX6AxMRMRzm17fya4dexlzZj4DTs1h04oWPvzgEAC5Q/uy970PcIeij9t3fcCo4FBee3Iz\\\n",
       "n7xgFJ8qG0NO/z6JIclsogATEfFYPHw+ecEoBg7ulzKV/lNlY9i35wOef2g9nyodwxuNW+jbN4e/\\\n",
       "LtiYmI0YH4rMNgowERGPJV8Pi29/5otnpGx/8YbJvPbkZt5a9S6jz8wDwPV2oWlGASYi4hPJMxc3\\\n",
       "vb4zK4cNkynARER8IvlMLf+SQR5X4z3NQhQREV9SgImIiC+lTYCZ2f82s5VmtsLMnjSzQKzdzOwX\\\n",
       "ZrYh1j/F61pFRMR7aRNgwO3OuWLn3GRgEfCTWPvngQmxr0rgN96UJyIi6SRtAsw5tztpcxCHZ4jO\\\n",
       "Av7oopYBeWaW3VNvREQkvWYhmtmtwDeAXUBZrHk08HbSbltibdt6tzoREUknvXoGZmZLzWxVB1+z\\\n",
       "AJxztzjnxgL3ATecxOtXmlmTmTXt2NH1lZ1FRMR/zLn0u5fbzAqBvzjnJpnZ3UCjc+7+WN86oNQ5\\\n",
       "d8wzMDPbAWzuoGs4sLO7a05TOtbMlU3Hm03HCt4f78eccyM8/PldljZDiGY2wTm3PrY5C1gbe7wQ\\\n",
       "uMHMHgA+A+w6XngBdPYfYGZNzrmS7qg53elYM1c2HW82HStk3/F+FGkTYMBtZvYJ4BDRM6dvxdr/\\\n",
       "AnwB2AC0A3O8KU9ERNJJ2gSYc+7KTtod8N1eLkdERNJc2kyj70V1XhfQi3SsmSubjjebjhWy73hP\\\n",
       "WlpO4hARETmebDwDExGRDJAVAWZmt5vZ2thaio+aWV5S302xdRbXmdmlHpbZbczsKjNbbWaHzKzk\\\n",
       "iL5MPN4ZsePZYGY3el1PdzOz35vZO2a2KqltmJk9ZWbrY9/zvayxu5jZWDMLmdmbsd/hqlh7xh2v\\\n",
       "mQ0ws5fN7PXYsdbG2seZ2Uux3+c/mVk/r2tNV1kRYMBTwCTnXDEQBm4CMLOJwNXAWcAM4C4z6+NZ\\\n",
       "ld1nFXAF8GxyYyYeb6z+XxNdM3MicE3sODPJH4j+fyW7EXjaOTcBeDq2nQkOAj9wzk0EzgO+G/v/\\\n",
       "zMTj3Q9Mc86dDUwGZpjZecDPgXnOufFAK3CddyWmt6wIMOfck865g7HNZcCY2ONZwAPOuf3OuU1E\\\n",
       "p+pP9aLG7uScW+OcW9dBVyYe71Rgg3Pub865A8ADRI8zYzjnngXePaJ5FnBP7PE9QHlv1tRTnHPb\\\n",
       "nHOvxR6/B6whunRcxh1vbH3X92ObfWNfDpgGPBxrz4hj7SlZEWBH+CbweOxxZ+ssZqpMPN5MPKau\\\n",
       "GJl0Q//fgZFeFtMTzKwI+DTwEhl6vGbWx8xWAO8QHSnaCLQl/cGdLb/PJyVt7gP7qMxsKXB6B123\\\n",
       "OOcei+1zC9Ehivt6s7ae0JXjlezgnHNmllHTic1sMPAI8K/Oud1mlujLpON1zn0ITI5dl38UONPb\\\n",
       "ivwlYwLMOTf9WP1m9k/ATOAid/jega3A2KTdxsTa0t7xjrcTvj3eY8jEY+qK7WY2yjm3LfbxQu94\\\n",
       "XVB3MbO+RMPrPufcglhzxh4vgHOuzcxCwPlEPzIqJ3YWli2/zyclK4YQzWwG8CPgcudce1LXQuBq\\\n",
       "M+tvZuOIfmjmy17U2Esy8XhfASbEZm71IzpJZaHHNfWGhcDs2OPZQEacdVv0VOt3wBrn3B1JXRl3\\\n",
       "vGY2Ij4j2swGAhcTveYXAr4c2y0jjrWnZMWNzGa2AegPtMSaljnnvhXru4XodbGDRIcrHu/4VfzD\\\n",
       "zL4E/BIYAbQBK5xzl8b6MvF4vwD8B9AH+L1z7lZvK+peZnY/UEp0lfLtQDXQADwIFBJdO/Qrzrkj\\\n",
       "J3r4jpl9DngOeIPouqgANxO9DpZRx2tmxUQnafQhejLxoHPup2Z2BtHJSMOA5cC1zrn93lWavrIi\\\n",
       "wEREJPNkxRCiiIhkHgWYiIj4kgJMRER8SQEmIiK+pAATERFfUoCJiIgvKcBERMSXFGAiIuJLCjAR\\\n",
       "EfElBZiIiPiSAkxERHxJASYiIr6kABMREV9SgImIiC8pwERExJcUYCIi4ksKMBER8SUFmIiI+JIC\\\n",
       "TEREfEkBJiIivvT/ATbtLfoSK52RAAAAAElFTkSuQmCC\\\n",
       "\"\n",
       "  frames[2] = \"data:image/png;base64,iVBORw0KGgoAAAANSUhEUgAAAbAAAAEgCAYAAADVKCZpAAAAOXRFWHRTb2Z0d2FyZQBNYXRwbG90\\\n",
       "bGliIHZlcnNpb24zLjUuMiwgaHR0cHM6Ly9tYXRwbG90bGliLm9yZy8qNh9FAAAACXBIWXMAAAsT\\\n",
       "AAALEwEAmpwYAAAWZ0lEQVR4nO3df2zc533Y8fdnVuKWKDAmjJD4bGv0Fl8Tp2UzmDOSbX+QaYK4\\\n",
       "lTCzRdu5wArPDUgU8ALFyDA48R93N9RAimHVgC3FRiJR/UdQ10hi2ZDadY5LwhvWNpXbVLGt8uI2\\\n",
       "zGLTjeOr2R8g4MDJZ3/weOFJlE0pOn7vOb5fAKG753ukni8s+s3vc88dIzORJKk0/6DqCUiSdCUM\\\n",
       "mCSpSAZMklQkAyZJKpIBkyQVyYBJkopkwCRJRTJgkqQiGTBJUpEMmCSpSAZMklQkAyZJKpIBkyQV\\\n",
       "yYBJkopkwCRJRTJgkqQiGTBJUpEMmCSpSAZMklQkAyZJKpIBkyQVyYBJkopkwCRJRTJgkqQiGTBJ\\\n",
       "UpEMmCSpSAZMklQkAyZJKpIBkyQVyYBJkopkwCRJRTJgkqQiGTBJUpEMmCSpSIeqnsCgvO1tb8vJ\\\n",
       "ycmqpyFJRXnqqadezszDVc9jL0Y2YJOTk5w9e7bqaUhSUSLiG1XPYa9cQlSfTqdzWeOSVBUDpp5m\\\n",
       "s8nU1BTtdrtvvN1uMzU1RbPZrGZikrQLAyZgK16tVov19XVmZ2d7EWu328zOzrK+vk6r1TJikoaG\\\n",
       "AVMvXtu2I3bmzJlevLYZMUnDwoAdcJ1Oh6Wlpb6xOebYXN/k2LFjbK5vMsdc3/GlpSWfE5NUOQN2\\\n",
       "wE1MTLC8vEytVgO24nWc45zgBJNMcoITHOd4L2K1Wo3l5WUmJiYqnLUkGTAB9Xq9F7EVVlhjjUkm\\\n",
       "OclJJplkjTVWWOnFq16vVz1lSTJg2lKv11lcXGSDDVq0+o61aLHBBouLi8ZL0tAwYAK2dhsuLCww\\\n",
       "zjgNGn3HGjQYZ5yFhYWLtthLUlUMmPq2ys8w01s2vJu7e8uJM8xctMVekqoUmVn1HAZieno6fSup\\\n",
       "N9bpdJiamurbKj/HHCussMEG44wzwwynONU7XqvVOHfunBs5pBEUEU9l5nTV89gLr8AOuImJCebn\\\n",
       "5/vGTnGKsdoYp0+fZqw21hcvgPn5eeMlXQbfom0wDJhoNps0Gt9/3mt7t+HRo0f7ttgDNBoNX8gs\\\n",
       "XQbfom2AMnMkP2699dbUDn/2hcxffcfWn5fQaDSyVqvl6upq3/jq6mrWarVsNBoDnqQ0WhqNRgIJ\\\n",
       "9H1vbX9PbR8bpu8t4GwOwf/D9/Lhc2AHRfMf7rj9N5d8WKfT2XV58FLjknZ34Vu0wdbqxuLiIgsL\\\n",
       "C33PO8PwrG74HJiKdalIGS9p73yLtv1hwCTpKvMt2vbHUC0hRsQPAU8C17L126I/n5mNiLgJeAiY\\\n",
       "AJ4Cfikzv/N6X8slRElV236N5eb6Zi9e29ZY417uZaw2NlRv0eYS4pV7FfhAZv4E8F7g9oh4H/Br\\\n",
       "wInMfCfwCvCR6qYoSXvjW7QN1lAFrLsJ5u+7d9/U/UjgA8Dnu+MPwgWLx5I0hHyLtsEaqoABRMQ1\\\n",
       "EfEV4CXgceAvgI3MfK37kOeB6yuaniTtiW/RNniHqp7AhTLzu8B7I2IceAR4114/NyIWgAWAI0eO\\\n",
       "DGR+kvRGOp1O328z3343m+23aLuXe/veom07Yr5F2+UZuiuwbZm5ASwD7wfGI2I7tjcAL1zicxYz\\\n",
       "czozpw8fPrw/E5WkC/gWbftjqAIWEYe7V15ExA8DHwLOsxWyn+s+7C7g0UomKEkXmLzvTO9jJ9+i\\\n",
       "bfCGbQnxOuDBiLiGrbg+nJmnI+JZ4KGI+FXgT4HPVDlJSdqL7SgtLS31bZXf/i3os7OzzM/PG68r\\\n",
       "NFSvA7uafB2YpP2w88pr7VNHd31MSW/RVtLrwIbtCkySinKpaO3kW7QNxlA9ByZJ0l4ZMElSkQyY\\\n",
       "JKlIBkySVCQDJkkqkgGTJBXJgEmSimTAJElFMmCSpCIZMElSkQyYJKlIBkySVCQDdgU6nc5ljUuS\\\n",
       "rj4DdpmazSZTU1O02+2+8Xa7zdTUlL/XR5L2iQG7DM1mk1arxfr6OrOzs72ItdttZmdnWV9fp9Vq\\\n",
       "GTFJ2gcGbI+247VtO2JnzpzpxWubEZOkwTNge9DpdFhaWuobm2OOzfVNjh07xub6JnPM9R1fWlry\\\n",
       "OTFJGiADtgcTExMsLy9Tq9WArXgd5zgnOMEkk5zgBMc53otYrVZjeXnZ37YqSQNkwPaoXq/3IrbC\\\n",
       "CmusMckkJznJJJOsscYKK7141ev1qqcsSSPNgF2Ger3O4uIiG2zQotV3rEWLDTZYXFw0XpK0DwzY\\\n",
       "ZWi32ywsLDDOOA0afccaNBhnnIWFhYu22EuSrj4Dtkc7t8rPMNNbNrybu3vLiTPMXLTFXpI0GJGZ\\\n",
       "Vc9hIKanp/Ps2bNX5Wt1Oh2mpqb6tsrPMccKK2ywwTjjzDDDKU71jtdqNc6dO+dGDklFiYinMnO6\\\n",
       "6nnsxVBdgUXEjRGxHBHPRsQzEXG8O/7WiHg8Ir7W/fMt+zmviYkJ5ufn+8ZOcYqx2hinT59mrDbW\\\n",
       "Fy+A+fl54yVJAzRUAQNeAz6embcA7wPuiYhbgPuAJzLzZuCJ7v2BOP+ud/c+Xnvlld54s9mk0fj+\\\n",
       "817buw2PHj3at8UeoNFo+EJmSRqwoQpYZr6YmX/Svf13wHngeuAO4MHuwx6EC141PCB/88Uv9t3f\\\n",
       "jtiFW+V3brE3XpK0P4b2ObCImASeBH4M+H+ZOd4dD+CV7fuXcqXPgZ1/17t7t2/+g//LobdcvFrZ\\\n",
       "6XR2XR681LgklaKk58AOVT2B3UTEjwBfAD6WmX+71awtmZkRsWt1I2IBWAA4cuTIFf3d7/7z82/4\\\n",
       "mEtFynhJ0v4ZqiVEgIh4E1vx+lxmbq/hfSsirusevw54abfPzczFzJzOzOnDhw/vz4QlSZUYqoB1\\\n",
       "lwc/A5zPzF/fcegx4K7u7buAR/d7bpKk4TJsS4j/Avgl4KsR8ZXu2CeBTwEPR8RHgG8Av1DN9CRJ\\\n",
       "w2KoApaZ/weISxz+yf2ciyRpuA3VEqIkSXtlwCRJRTJgkqQiGTBJUpEMmCSpSAZMklQkAyZJKpIB\\\n",
       "kyQVyYBJkopkwCRJRTJgkqQiGTBJUpEMmCSpSAZMklQkAyZJKpIBkyQVyYBJkopkwCRJRTJgkqQi\\\n",
       "GTBJUpEMmCSpSAZMklQkAyZJKpIBkyQVaegCFhGfjYiXIuLpHWNvjYjHI+Jr3T/fUuUcD4pOp3NZ\\\n",
       "45K0n4YuYMBvArdfMHYf8ERm3gw80b2vAWo2m0xNTdFut/vG2+02U1NTNJvNaiYmSV1DF7DMfBL4\\\n",
       "6wuG7wAe7N5+EJjbzzkdNM1mk1arxfr6OrOzs72ItdttZmdnWV9fp9VqGTGpYgd9lWToAnYJb8/M\\\n",
       "F7u3/wp4e5WTGWXb8dq2HbEzZ8704rXNiEnVcZUEyMyh+wAmgad33N+44Pgrl/i8BeAscPbIkSOp\\\n",
       "y/Pyyy9nrVZLoPcxx1yOM55AjjOec8z1Ha/Vavnyyy9XPXXpQGk0Gn3fg6urq5mZubq62vc93Gg0\\\n",
       "LvtrA2dzCDqwl4/KJ7DrpC4O2CpwXff2dcDqG32NW2+9da//vbTDzm+AOeZymeU8ycmcZDJPcjKX\\\n",
       "We5FbOc3jqT9sTNeOyN2+vTpi34AvZKIlRSwUpYQHwPu6t6+C3i0wrmMtHq9zvLyMrVajRVWWGON\\\n",
       "SSY5yUkmmWSNNVZYoVarsby8TL1er3rK0oHR6XRYWlrqG5tjjs31TY4dO8bm+iZzF2wRWFpaGtnn\\\n",
       "xIYuYBHxW8AfAD8aEc9HxEeATwEfioivAR/s3teA1Ot1FhcX2WCDFq2+Yy1abLDB4uKi8ZL22cTE\\\n",
       "RO8HTNiK13GOc4ITTDLJCU5wnOO9iG3/oDkxMVHhrAcntq4YR8/09HSePXu26mkUaXu34eb6Zu8b\\\n",
       "Y9saa9zLvYzVxrwCkyoyyO/RiHgqM6ev8pQHYuiuwFStnVvlZ5jpLRvezd295cQZZi7aYi9p/7hK\\\n",
       "ssUrMPV0Oh2mpqb6tsrPMccKK2ywwTjjzDDDKU71jtdqNc6dOzeySxTSMPIKbItXYOqZmJhgfn6+\\\n",
       "b+wUpxirjXH69GnGamN98QKYn583XtI+cpVkh6q3QQ7qw230V26QrzGRdOX247WauI1ew+jHH/zx\\\n",
       "vo9LaTabNBqNi7bK79xi32g0DsYr/aUh4ipJP58DO0AujNZX7/rq6z6+0+ns+g//UuOSfnD/+V8f\\\n",
       "693++G+f3vUxO9/ybecPmjuXF4Er+kGzpOfADlU9AQ2vS0XKeEnV2o7S0tLSrqsks7OzzM/Pj/wq\\\n",
       "iVdgkjRE9nIFtm0QqyQlXYH5HJgkDZF/8s/+ed+fr+egr5K4hChJQ2Tu33+y6ikUwyswSVKRDJgk\\\n",
       "qUgGTJJUJAMmSSqSAZMkFcmASZKKZMAkSUUyYJKkIhkwSVKRDJgkqUgGTJJUJAMmSSqSAZMkFcmA\\\n",
       "SZKKVEzAIuL2iFiNiOci4r6q5yNJqlYRAYuIa4BPAz8F3AL8YkTcUu2sJElVKiJgwG3Ac5n5l5n5\\\n",
       "HeAh4I6K5yRJqlApAbse+OaO+893xyRJB1QpAduTiFiIiLMRcfbb3/521dORJA1QKQF7Abhxx/0b\\\n",
       "umN9MnMxM6czc/rw4cP7NjlJ0v4rJWB/DNwcETdFxJuBO4HHKp6TJKlCh6qewF5k5msR8e+A3wOu\\\n",
       "AT6bmc9UPC1JUoWKCBhAZv4O8DtVz0OSNBxKWUKUJKmPAZMkFcmASZKKZMAkSUUyYJKkIhkwSVKR\\\n",
       "DJgkqUgGTJJUJAMmSSqSAZMkFcmASZKKZMAkSUUyYJKkIhkwSVKRDJgkqUgGTJJUJAMmSSqSAZMk\\\n",
       "FcmASZKKZMAkSUUyYJKkIhkwSVKRDJgkqUgGTJJUpKEJWET8fEQ8ExHfi4jpC459IiKei4jViPhw\\\n",
       "VXOUJA2PQ1VPYIengZ8F/sfOwYi4BbgTeA9QA74UEfXM/O7+T1GSNCyG5gosM89n5uouh+4AHsrM\\\n",
       "VzPz68BzwG37OztJ0rAZmoC9juuBb+64/3x3TJJ0gO3rEmJEfAl4xy6H7s/MR6/C118AFgCOHDny\\\n",
       "g345SdIQ29eAZeYHr+DTXgBu3HH/hu7Ybl9/EVgEmJ6eziv4uyRJhShhCfEx4M6IuDYibgJuBr5c\\\n",
       "8ZwkSRUbmoBFxM9ExPPA+4EzEfF7AJn5DPAw8CzwP4F73IEoSRqabfSZ+QjwyCWOPQA8sL8zkiQN\\\n",
       "s6G5ApMk6XIYMElSkQyYJKlIBkySVCQDJkkqkgGTJBXJgEmSimTAJElFMmCSpCIZMElSkQyYJKlI\\\n",
       "BkySVCQDJkkqkgGTJBXJgEmSimTAJElFMmCSpCIZMElSkQyYJKlIBkySVCQDJkkqkgGTJBXJgEmS\\\n",
       "imTAJElFGpqARcR/iog/j4hzEfFIRIzvOPaJiHguIlYj4sMVTlOSNCSGJmDA48CPZeYU0AY+ARAR\\\n",
       "twB3Au8Bbgd+IyKuqWyWkqShMDQBy8z/lZmvde/+IXBD9/YdwEOZ+Wpmfh14DritijlKkobH0ATs\\\n",
       "Ar8M/G739vXAN3cce747Jkk6wA7t518WEV8C3rHLofsz89HuY+4HXgM+dwVffwFYADhy5MgPMFNJ\\\n",
       "0rDb14Bl5gdf73hE/FvgGPCTmZnd4ReAG3c87Ibu2G5ffxFYBJiens7dHiNJGg1Ds4QYEbcD/wH4\\\n",
       "V5m5uePQY8CdEXFtRNwE3Ax8uYo5SpKGx75egb2B/wZcCzweEQB/mJm/kpnPRMTDwLNsLS3ek5nf\\\n",
       "rXCekqQhMDQBy8x3vs6xB4AH9nE6kqQhNzRLiJKkK9fpdC5rfBQYMEkqXLPZZGpqina73TfebreZ\\\n",
       "mpqi2WxWM7EBM2CSVLBms0mr1WJ9fZ3Z2dlexNrtNrOzs6yvr9NqtUYyYgZMkgq1Ha9t2xE7c+ZM\\\n",
       "L17bRjFiBkySCtTpdFhaWuobm2OOzfVNjh07xub6JnPM9R1fWloaqefEDJgkFWhiYoLl5WVqtRqw\\\n",
       "Fa/jHOcEJ5hkkhOc4DjHexGr1WosLy8zMTFR4ayvLgMmSYWq1+u9iK2wwhprTDLJSU4yySRrrLHC\\\n",
       "Si9e9Xq96ilfVQZMkgpWr9dZXFxkgw1atPqOtWixwQaLi4sjFy8wYJJUtHa7zcLCAuOM06DRd6xB\\\n",
       "g3HGWVhYuGiL/SgwYJJUqJ1b5WeY6S0b3s3dveXEGWYu2mI/KuL7b/o+Wqanp/Ps2bNVT0OSBqLT\\\n",
       "6TA1NdW3VX6OOVZYYYMNxhlnhhlOcap3vFarce7cudfdyBERT2Xm9CDnfrV4BSZJBZqYmGB+fr5v\\\n",
       "7BSnGKuNcfr0acZqY33xApifn3cXoiSpes1mk0bj+897be82PHr0aN8We4BGozFyL2QemnejlyT1\\\n",
       "+/Sv/H7v9j3//QO7PmY7SktLS31b5be32M/OzjI/Pz9y8QIDJknFazabfPSjH71oebBer7/hc14l\\\n",
       "cwlRkkbApSI1qvECr8AkaWhdatlQW7wCkyQVyYBJkopkwCRJRTJgkqQiGTBJUpEMmCSpSAZMklSk\\\n",
       "kX03+oj4NvCNqucxYG8DXq56EhU4iOftOR8Mw3DO/ygzD1c8hz0Z2YAdBBFxtpRfe3A1HcTz9pwP\\\n",
       "hoN4zj8IlxAlSUUyYJKkIhmwsi1WPYGKHMTz9pwPhoN4zlfM58AkSUXyCkySVCQDVqCI+PmIeCYi\\\n",
       "vhcR0xcc+0REPBcRqxHx4armOAgRcXv3vJ6LiPuqns+gRMRnI+KliHh6x9hbI+LxiPha98+3VDnH\\\n",
       "qykiboyI5Yh4tvvv+nh3fGTPGSAifigivhwRf9Y971Z3/KaI+KPuv/Pfjog3Vz3XYWXAyvQ08LPA\\\n",
       "kzsHI+IW4E7gPcDtwG9ExDX7P72rr3senwZ+CrgF+MXu+Y6i32Trv99O9wFPZObNwBPd+6PiNeDj\\\n",
       "mXkL8D7gnu5/21E+Z4BXgQ9k5k8A7wVuj4j3Ab8GnMjMdwKvAB+pborDzYAVKDPPZ+bqLofuAB7K\\\n",
       "zFcz8+vAc8Bt+zu7gbkNeC4z/zIzvwM8xNb5jpzMfBL46wuG7wAe7N5+EJjbzzkNUma+mJl/0r39\\\n",
       "d8B54HpG+JwBcsvfd+++qfuRwAeAz3fHR+68ryYDNlquB7654/7z3bFRMMrnthdvz8wXu7f/Cnh7\\\n",
       "lZMZlIiYBP4p8EccgHOOiGsi4ivAS8DjwF8AG5n5WvchB+3f+WU5VPUEtLuI+BLwjl0O3Z+Zj+73\\\n",
       "fDQ8MjMjYuS2D0fEjwBfAD6WmX8bEb1jo3rOmfld4L0RMQ48Aryr2hmVxYANqcz84BV82gvAjTvu\\\n",
       "39AdGwWjfG578a2IuC4zX4yI69j6iX1kRMSb2IrX5zLzi93hkT7nnTJzIyKWgfcD4xFxqHsVdtD+\\\n",
       "nV8WlxBHy2PAnRFxbUTcBNwMfLniOV0tfwzc3N2h9Wa2Nqs8VvGc9tNjwF3d23cBI3MVHluXWp8B\\\n",
       "zmfmr+84NLLnDBARh7tXXkTEDwMfYuv5v2Xg57oPG7nzvpp8IXOBIuJngP8KHAY2gK9k5oe7x+4H\\\n",
       "fpmtnV0fy8zfrWqeV1tE/DTwX4BrgM9m5gPVzmgwIuK3gBm23pn8W0ADOAU8DBxh67cs/EJmXrjR\\\n",
       "o0gR8S+B/w18Ffhed/iTbD0PNpLnDBARU2xt0riGrYuJhzPzP0bEP2Zrk9JbgT8F/k1mvlrdTIeX\\\n",
       "AZMkFcklRElSkQyYJKlIBkySVCQDJkkqkgGTJBXJgEmSimTAJElFMmCSpCIZMElSkQyYJKlIBkyS\\\n",
       "VCQDJkkqkgGTJBXJgEmSimTAJElFMmCSpCIZMElSkQyYJKlIBkySVCQDJkkq0v8Hib+zu9wEBh0A\\\n",
       "AAAASUVORK5CYII=\\\n",
       "\"\n",
       "  frames[3] = \"data:image/png;base64,iVBORw0KGgoAAAANSUhEUgAAAbAAAAEgCAYAAADVKCZpAAAAOXRFWHRTb2Z0d2FyZQBNYXRwbG90\\\n",
       "bGliIHZlcnNpb24zLjUuMiwgaHR0cHM6Ly9tYXRwbG90bGliLm9yZy8qNh9FAAAACXBIWXMAAAsT\\\n",
       "AAALEwEAmpwYAAAWO0lEQVR4nO3df2zc533Y8fdnduKWKDAmjJD4bGv0EHOp07IZTBgJtj/INEHc\\\n",
       "SZjZou1cYIXnBiQKeIFiBNic+o+7G2YgxbBqwJZiI5Go/iOoa6S1bEjtOscj4Q1Ym8prpvhHeVEb\\\n",
       "ZrHpxvE1XFsQcODksz94d7mTKJtSxPvec3y/gIPvnu+Rer6Q6De/zz08RmYiSVJp/k7VE5Ak6WoY\\\n",
       "MElSkQyYJKlIBkySVCQDJkkqkgGTJBXJgEmSimTAJElFMmCSpCIZMElSkQyYJKlIBkySVCQDJkkq\\\n",
       "kgGTJBXJgEmSimTAJElFMmCSpCIZMElSkQyYJKlIBkySVCQDJkkqkgGTJBXJgEmSimTAJElFMmCS\\\n",
       "pCIZMElSkQyYJKlIBkySVCQDJkkqkgGTJBXJgEmSimTAJElFMmCSpCIZMElSka6vegIH5V3veldO\\\n",
       "T09XPQ1JKsqzzz77WmYeqXoe+zG2AZuenubcuXNVT0OSihIR36h6DvvlEqJ62u32FY1LUpUMmABo\\\n",
       "NBrMzs7SarUGxlutFrOzszQajWomJkmXYcBEo9Gg2WyytbXFwsJCL2KtVouFhQW2trZoNptGTNJI\\\n",
       "MWCHXDdeXd2InT17thevLiMmaZQYsEOs3W6zuro6MLbIIjtbOxw/fpydrR0WWRw4vrq66mtikkaC\\\n",
       "ATvEpqamWFtbo1arAbvxOsEJTnKSaaY5yUlOcKIXsVqtxtraGlNTUxXOWpJ2GbBDbmZmphexddbZ\\\n",
       "ZJNppjnFKaaZZpNN1lnvxWtmZqbqKUsSYMDEbsRWVlbYZpsmzYFjTZpss83KyorxkjRSDJhotVos\\\n",
       "Ly8zySR16gPH6tSZZJLl5eVLtthLUpUM2CHXv1V+nvnesuF93NdbTpxn/pIt9pJUtcjMqudwIObm\\\n",
       "5tK3knpz7Xab2dnZga3yiyyyzjrbbDPJJPPMc5rTveO1Wo3z58+7kUMaUxHxbGbOVT2P/fAK7BCb\\\n",
       "mppiaWlpYOw0p5moTXDmzBkmahMD8QJYWloyXtIV8m3aDoYBO+QajQb1+g9e9+ruNjx27NjAFnuA\\\n",
       "er3uDzJLV8i3aTtAmTmWtzvuuCO1f/V6PWu1Wm5sbAyMb2xsZK1Wy3q9Xs3EpILV6/UEEhj4+up+\\\n",
       "XXWPjdLXF3AuR+D/4fu5+RrYYdH4u333/9+eT2m323suD15uXNLlXfw2bbC7wrGyssLy8vLAa88w\\\n",
       "OiscvgamIl0uUsZLujK+TdtwGDBJusZ8m7bhGKklxIj4EeAZ4AZ2f1v0FzOzHhG3Ao8CU8CzwC9n\\\n",
       "5nff7HO5hCipat2fs9zZ2unFq2uTTR7gASZqEyP1Nm0uIV6914EPZ+ZPAR8A7oqIDwK/DpzMzPcC\\\n",
       "3wE+Xt0UJWl/fJu2gzVSAetsgvnbzsO3dW4JfBj4Ymf8Ebho8ViSRpBv03awRipgABFxXUR8BXgV\\\n",
       "eAr4c2A7M9/oPOUl4KaKpidJ++LbtB2866uewMUy83vAByJiEngceN9+PzYiloFlgKNHjx7I/CTp\\\n",
       "rbTb7YHfaN59R5vu27Q9wAMDb9PWjZhv03ZlRu4KrCszt4E14EPAZER0Y3sz8PJlPmYlM+cyc+7I\\\n",
       "kSPDmagkXcS3aRuOkQpYRBzpXHkRET8KfBR4kd2Q/XznafcCT1QyQUm6yPSDZ3u3fr5N28EbtSXE\\\n",
       "G4FHIuI6duP6WGaeiYgXgEcj4t8Cfwp8rspJStJ+dKO0uro6sFW++5vQFxYWWFpaMl5XaaR+Duxa\\\n",
       "8ufAJA1D/5XX5meO7fmckt6mraSfAxu1KzBJKsrlotXPt2k7GCP1GpgkSftlwCRJRTJgkqQiGTBJ\\\n",
       "UpEMmCSpSAZMklQkAyZJKpIBkyQVyYBJkopkwCRJRTJgkqQiGTBJUpEM2FVot9tXNC5JuvYM2BVq\\\n",
       "NBrMzs7SarUGxlutFrOzs/5eH0kaEgN2BRqNBs1mk62tLRYWFnoRa7VaLCwssLW1RbPZNGKSNAQG\\\n",
       "bJ+68erqRuzs2bO9eHUZMUk6eAZsH9rtNqurqwNjiyyys7XD8ePH2dnaYZHFgeOrq6u+JiZJB8iA\\\n",
       "7cPU1BRra2vUajVgN14nOMFJTjLNNCc5yQlO9CJWq9VYW1vzt61K0gEyYPs0MzPTi9g662yyyTTT\\\n",
       "nOIU00yzySbrrPfiNTMzU/WUJWmsGbArMDMzw8rKCtts06Q5cKxJk222WVlZMV6SNAQG7Aq0Wi2W\\\n",
       "l5eZZJI69YFjdepMMsny8vIlW+wlSdeeAdun/q3y88z3lg3v477ecuI885dssZckHYzIzKrncCDm\\\n",
       "5uby3Llz1+RztdttZmdnB7bKL7LIOutss80kk8wzz2lO947XajXOnz/vRg5JRYmIZzNzrup57MdI\\\n",
       "XYFFxC0RsRYRL0TE8xFxojP+zoh4KiK+1vnvO4Y5r6mpKZaWlgbGTnOaidoEZ86cYaI2MRAvgKWl\\\n",
       "JeMlSQdopAIGvAF8KjNvBz4I3B8RtwMPAk9n5m3A053HB+LF9/1479av0WhQr//gda/ubsNjx44N\\\n",
       "bLEHqNfr/iCzJB2w66ueQL/MfAV4pXP/byLiReAm4G5gvvO0R4B14F8Pe37dKK2urg5sle9usV9Y\\\n",
       "WGBpacl4SdIQjOxrYBExDTwD/ATwfzNzsjMewHe6jy/nal8D67/y+vE/e3HP57Tb7T2XBy83Lkml\\\n",
       "KOk1sJG6AuuKiB8Dfhf4ZGb+9W6zdmVmRsSe1Y2IZWAZ4OjRo1f1Z18uWv0uFynjJUnDM2qvgRER\\\n",
       "b2M3Xl/IzN/rDH8rIm7sHL8ReHWvj83Mlcycy8y5I0eODGfCkqRKjFTAOsuDnwNezMzf6Dv0JHBv\\\n",
       "5/69wBPDnpskabSM2hLiPwJ+GfhqRHylM/ZrwGeAxyLi48A3gF+sZnqSpFExUgHLzP8JxGUO//Qw\\\n",
       "5yJJGm0jtYQoSdJ+GTBJUpEMmCSpSAZMklQkAyZJKpIBkyQVyYBJkopkwCRJRTJgkqQiGTBJUpEM\\\n",
       "mCSpSAZMklQkAyZJKpIBkyQVyYBJkopkwCRJRTJgkqQiGTBJUpEMmCSpSAZMklQkAyZJKpIBkyQV\\\n",
       "yYBJkopkwCRJRRq5gEXE5yPi1Yh4rm/snRHxVER8rfPfd1Q5x8Oi3W5f0bgkDdPIBQz4LeCui8Ye\\\n",
       "BJ7OzNuApzuPdYAajQazs7O0Wq2B8VarxezsLI1Go5qJSVLHyAUsM58B/uqi4buBRzr3HwEWhzmn\\\n",
       "w6bRaNBsNtna2mJhYaEXsVarxcLCAltbWzSbTSMmVeywr5KMXMAu492Z+Urn/l8C765yMuOsG6+u\\\n",
       "bsTOnj3bi1eXEZOq4yoJkJkjdwOmgef6Hm9fdPw7l/m4ZeAccO7o0aOpK/Paa69lrVZLoHdbZDEn\\\n",
       "mUwgJ5nMRRYHjtdqtXzttdeqnrp0qNTr9YGvwY2NjczM3NjYGPgartfrV/y5gXM5Ah3Yz63yCew5\\\n",
       "qUsDtgHc2Ll/I7DxVp/jjjvu2O/fl/r0fwEssphrrOUpTuU003mKU7nGWi9i/V84koajP179ETtz\\\n",
       "5swl34BeTcRKClgpS4hPAvd27t8LPFHhXMbazMwMa2tr1Go11llnk02mmeYUp5hmmk02WWedWq3G\\\n",
       "2toaMzMzVU9ZOjTa7Tarq6sDY4sssrO1w/Hjx9nZ2mHxoi0Cq6urY/ua2MgFLCJ+G/hfwD+IiJci\\\n",
       "4uPAZ4CPRsTXgI90HuuAzMzMsLKywjbbNGkOHGvSZJttVlZWjJc0ZFNTU71vMGE3Xic4wUlOMs00\\\n",
       "JznJCU70Itb9RnNqaqrCWR+c2L1iHD9zc3N57ty5qqdRpO5uw52tnd4XRtcmmzzAA0zUJrwCkypy\\\n",
       "kF+jEfFsZs5d4ykfiJG7AlO1+rfKzzPfWza8j/t6y4nzzF+yxV7S8LhKsssrMPW0221mZ2cHtsov\\\n",
       "ssg662yzzSSTzDPPaU73jtdqNc6fPz+2SxTSKPIKbJdXYOqZmppiaWlpYOw0p5moTXDmzBkmahMD\\\n",
       "8QJYWloyXtIQuUrSp+ptkAd1cxv91TvInzGRdPWG8bOauI1eo+gnH/nJ3u3NNBoN6vX6JVvl+7fY\\\n",
       "1+v1w/GT/tIIcZVkkK+BHSL94frqvV99y+e32+09/+FfblzSD+/f/7Pjvfuf+p0zez6n/y3f+r/R\\\n",
       "7F9eBK7qG82SXgO7vuoJaHRdLlLGS6pWN0qrq6t7rpIsLCywtLQ09qskXoFJ0gjZzxVY10GskngF\\\n",
       "Jkm6Km8VrX6HfZXETRySpCIZMElSkQyYJKlIBkySVCQDJkkqkgGTJBXJgEmSimTAJElFMmCSpCIZ\\\n",
       "MElSkQyYJKlIBkySVCQDJkkqkgGTJBXJgEmSilRMwCLirojYiIgLEfFg1fORJFWriIBFxHXAZ4Gf\\\n",
       "AW4Hfikibq92VpKkKhURMOBO4EJm/kVmfhd4FLi74jlJkipUSsBuAr7Z9/ilzpgk6ZAqJWD7EhHL\\\n",
       "EXEuIs59+9vfrno6kqQDVErAXgZu6Xt8c2dsQGauZOZcZs4dOXJkaJOTJA1fKQH7E+C2iLg1It4O\\\n",
       "3AM8WfGcJEkVur7qCexHZr4REf8S+EPgOuDzmfl8xdOSJFWoiIABZObvA79f9TwkSaOhlCVESZIG\\\n",
       "GDBJUpEMmCSpSAZMklQkAyZJKpIBkyQVyYBJkopkwCRJRTJgkqQiGTBJUpEMmCSpSAZMklQkAyZJ\\\n",
       "KpIBkyQVyYBJkopkwCRJRTJgkqQiGTBJUpEMmCSpSAZMklQkAyZJKpIBkyQVyYBJkopkwCRJRRqZ\\\n",
       "gEXEL0TE8xHx/YiYu+jYpyPiQkRsRMTHqpqjJGl0XF/1BPo8B/wc8F/6ByPiduAe4P1ADfhSRMxk\\\n",
       "5veGP0VJ0qgYmSuwzHwxMzf2OHQ38Ghmvp6ZXwcuAHcOd3aSpFEzMgF7EzcB3+x7/FJnTJJ0iA11\\\n",
       "CTEivgS8Z49DD2XmE9fg8y8DywBHjx79YT+dJGmEDTVgmfmRq/iwl4Fb+h7f3Bnb6/OvACsAc3Nz\\\n",
       "eRV/liSpECUsIT4J3BMRN0TErcBtwJcrnpMkqWIjE7CI+NmIeAn4EHA2Iv4QIDOfBx4DXgD+K3C/\\\n",
       "OxAlSSOzjT4zHwcev8yxh4GHhzsjSdIoG5krMEmSroQBkyQVyYBJkopkwCRJRTJgkqQiGTBJUpEM\\\n",
       "mCSpSAZMklQkAyZJKpIBkyQVyYBJkopkwCRJRTJgkqQiGTBJUpEMmCSpSAZMklQkAyZJKpIBkyQV\\\n",
       "yYBJkopkwCRJRTJgkqQiGTBJUpEMmCSpSAZMklSkkQlYRPy7iPiziDgfEY9HxGTfsU9HxIWI2IiI\\\n",
       "j1U4TUnSiBiZgAFPAT+RmbNAC/g0QETcDtwDvB+4C/jNiLiusllKkkbCyAQsM/9bZr7RefhHwM2d\\\n",
       "+3cDj2bm65n5deACcGcVc5QkjY6RCdhFfgX4g879m4Bv9h17qTMmSTrErh/mHxYRXwLes8ehhzLz\\\n",
       "ic5zHgLeAL5wFZ9/GVgGOHr06A8xU0nSqBtqwDLzI292PCL+BXAc+OnMzM7wy8AtfU+7uTO21+df\\\n",
       "AVYA5ubmcq/nSJLGw8gsIUbEXcC/Av5pZu70HXoSuCciboiIW4HbgC9XMUdJ0ugY6hXYW/hPwA3A\\\n",
       "UxEB8EeZ+auZ+XxEPAa8wO7S4v2Z+b0K5ylJGgEjE7DMfO+bHHsYeHiI05EkjbiRWUKUJF29drt9\\\n",
       "RePjwIBJUuEajQazs7O0Wq2B8VarxezsLI1Go5qJHTADJkkFazQaNJtNtra2WFhY6EWs1WqxsLDA\\\n",
       "1tYWzWZzLCNmwCSpUN14dXUjdvbs2V68usYxYgZMkgrUbrdZXV0dGFtkkZ2tHY4fP87O1g6LLA4c\\\n",
       "X11dHavXxAyYJBVoamqKtbU1arUasBuvE5zgJCeZZpqTnOQEJ3oRq9VqrK2tMTU1VeGsry0DJkmF\\\n",
       "mpmZ6UVsnXU22WSaaU5ximmm2WSTddZ78ZqZmal6yteUAZOkgs3MzLCyssI22zRpDhxr0mSbbVZW\\\n",
       "VsYuXmDAJKlorVaL5eVlJpmkTn3gWJ06k0yyvLx8yRb7cWDAJKlQ/Vvl55nvLRvex3295cR55i/Z\\\n",
       "Yj8u4gdv+j5e5ubm8ty5c1VPQ5IORLvdZnZ2dmCr/CKLrLPONttMMsk885zmdO94rVbj/Pnzb7qR\\\n",
       "IyKezcy5g5z7teIVmCQVaGpqiqWlpYGx05xmojbBmTNnmKhNDMQLYGlpyV2IkqTqNRoN6vUfvO7V\\\n",
       "3W147NixgS32APV6fex+kHlk3o1ekjTos7/633v37//PH97zOd0ora6uDmyV726xX1hYYGlpaezi\\\n",
       "BQZMkorXaDT4xCc+ccny4MzMzFu+5lUylxAlaQxcLlLjGi/wCkySRtbllg21yyswSVKRDJgkqUgG\\\n",
       "TJJUJAMmSSqSAZMkFcmASZKKZMAkSUUa23ejj4hvA9+oeh4H7F3Aa1VPYsgO4znD4Txvz7kafy8z\\\n",
       "j1Q8h30Z24AdBhFxrpRfe3CtHMZzhsN53p6z3opLiJKkIhkwSVKRDFjZVqqeQAUO4znD4Txvz1lv\\\n",
       "ytfAJElF8gpMklQkA1agiPiFiHg+Ir4fEXMXHft0RFyIiI2I+FhVczwIEXFX57wuRMSDVc/nIETE\\\n",
       "5yPi1Yh4rm/snRHxVER8rfPfd1Q5x2stIm6JiLWIeKHz7/pEZ3zcz/tHIuLLEfF/Oufd7IzfGhF/\\\n",
       "3Pl3/jsR8faq5zqqDFiZngN+DnimfzAibgfuAd4P3AX8ZkRcN/zpXXud8/gs8DPA7cAvdc533PwW\\\n",
       "u393/R4Ens7M24CnO4/HyRvApzLzduCDwP2dv9txP+/XgQ9n5k8BHwDuiogPAr8OnMzM9wLfAT5e\\\n",
       "3RRHmwErUGa+mJkbexy6G3g0M1/PzK8DF4A7hzu7A3MncCEz/yIzvws8yu75jpXMfAb4q4uG7wYe\\\n",
       "6dx/BFgc5pwOWma+kpn/u3P/b4AXgZsY//POzPzbzsO3dW4JfBj4Ymd87M77WjJg4+Um4Jt9j1/q\\\n",
       "jI2DcT63t/LuzHylc/8vgXdXOZmDFBHTwD8E/phDcN4RcV1EfAV4FXgK+HNgOzPf6DzlMP07v2LX\\\n",
       "Vz0B7S0ivgS8Z49DD2XmE8Oej0ZDZmZEjOXW4Yj4MeB3gU9m5l9HRO/YuJ53Zn4P+EBETAKPA++r\\\n",
       "dkZlMWAjKjM/chUf9jJwS9/jmztj42Ccz+2tfCsibszMVyLiRna/Wx8rEfE2duP1hcz8vc7w2J93\\\n",
       "V2ZuR8Qa8CFgMiKu71yFHaZ/51fMJcTx8iRwT0TcEBG3ArcBX654TtfKnwC3dXZovZ3dzSpPVjyn\\\n",
       "YXkSuLdz/15grK7AY/dS63PAi5n5G32Hxv28j3SuvIiIHwU+yu7rf2vAz3eeNnbnfS35g8wFioif\\\n",
       "Bf4jcATYBr6SmR/rHHsI+BV2d3Z9MjP/oKp5XmsR8U+A/wBcB3w+Mx+udkbXXkT8NjDP7ruSfwuo\\\n",
       "A6eBx4Cj7P6GhV/MzIs3ehQrIv4x8D+ArwLf7wz/Gruvg43zec+yu0njOnYvJh7LzH8TEX+f3U1K\\\n",
       "7wT+FPjnmfl6dTMdXQZMklQklxAlSUUyYJKkIhkwSVKRDJgkqUgGTJJUJAMmSSqSAZMkFcmASZKK\\\n",
       "ZMAkSUUyYJKkIhkwSVKRDJgkqUgGTJJUJAMmSSqSAZMkFcmASZKKZMAkSUUyYJKkIhkwSVKRDJgk\\\n",
       "qUj/H81/rT3XwH4YAAAAAElFTkSuQmCC\\\n",
       "\"\n",
       "  frames[4] = \"data:image/png;base64,iVBORw0KGgoAAAANSUhEUgAAAbAAAAEgCAYAAADVKCZpAAAAOXRFWHRTb2Z0d2FyZQBNYXRwbG90\\\n",
       "bGliIHZlcnNpb24zLjUuMiwgaHR0cHM6Ly9tYXRwbG90bGliLm9yZy8qNh9FAAAACXBIWXMAAAsT\\\n",
       "AAALEwEAmpwYAAAWO0lEQVR4nO3df2zc533Y8fdnduKWKDAmjJD4bGv0EHOp07IZTBgJtj/INEHc\\\n",
       "SZjZou1cYIXnBiQKeIFiBNic+o+7G2YgxbBqwJZiI5Go/iOoa6S1bEjtOscj4Q1Ym8prpvhHeVEb\\\n",
       "ZrHpxvE1XFsQcODksz94d7mTKJtSxPvec3y/gIPvnu+Rer6Q6De/zz08RmYiSVJp/k7VE5Ak6WoY\\\n",
       "MElSkQyYJKlIBkySVCQDJkkqkgGTJBXJgEmSimTAJElFMmCSpCIZMElSkQyYJKlIBkySVCQDJkkq\\\n",
       "kgGTJBXJgEmSimTAJElFMmCSpCIZMElSkQyYJKlIBkySVCQDJkkqkgGTJBXJgEmSimTAJElFMmCS\\\n",
       "pCIZMElSkQyYJKlIBkySVCQDJkkqkgGTJBXJgEmSimTAJElFMmCSpCIZMElSka6vegIH5V3veldO\\\n",
       "T09XPQ1JKsqzzz77WmYeqXoe+zG2AZuenubcuXNVT0OSihIR36h6DvvlEqJ62u32FY1LUpUMmABo\\\n",
       "NBrMzs7SarUGxlutFrOzszQajWomJkmXYcBEo9Gg2WyytbXFwsJCL2KtVouFhQW2trZoNptGTNJI\\\n",
       "MWCHXDdeXd2InT17thevLiMmaZQYsEOs3W6zuro6MLbIIjtbOxw/fpydrR0WWRw4vrq66mtikkaC\\\n",
       "ATvEpqamWFtbo1arAbvxOsEJTnKSaaY5yUlOcKIXsVqtxtraGlNTUxXOWpJ2GbBDbmZmphexddbZ\\\n",
       "ZJNppjnFKaaZZpNN1lnvxWtmZqbqKUsSYMDEbsRWVlbYZpsmzYFjTZpss83KyorxkjRSDJhotVos\\\n",
       "Ly8zySR16gPH6tSZZJLl5eVLtthLUpUM2CHXv1V+nvnesuF93NdbTpxn/pIt9pJUtcjMqudwIObm\\\n",
       "5tK3knpz7Xab2dnZga3yiyyyzjrbbDPJJPPMc5rTveO1Wo3z58+7kUMaUxHxbGbOVT2P/fAK7BCb\\\n",
       "mppiaWlpYOw0p5moTXDmzBkmahMD8QJYWloyXtIV8m3aDoYBO+QajQb1+g9e9+ruNjx27NjAFnuA\\\n",
       "er3uDzJLV8i3aTtAmTmWtzvuuCO1f/V6PWu1Wm5sbAyMb2xsZK1Wy3q9Xs3EpILV6/UEEhj4+up+\\\n",
       "XXWPjdLXF3AuR+D/4fu5+RrYYdH4u333/9+eT2m323suD15uXNLlXfw2bbC7wrGyssLy8vLAa88w\\\n",
       "OiscvgamIl0uUsZLujK+TdtwGDBJusZ8m7bhGKklxIj4EeAZ4AZ2f1v0FzOzHhG3Ao8CU8CzwC9n\\\n",
       "5nff7HO5hCipat2fs9zZ2unFq2uTTR7gASZqEyP1Nm0uIV6914EPZ+ZPAR8A7oqIDwK/DpzMzPcC\\\n",
       "3wE+Xt0UJWl/fJu2gzVSAetsgvnbzsO3dW4JfBj4Ymf8Ebho8ViSRpBv03awRipgABFxXUR8BXgV\\\n",
       "eAr4c2A7M9/oPOUl4KaKpidJ++LbtB2866uewMUy83vAByJiEngceN9+PzYiloFlgKNHjx7I/CTp\\\n",
       "rbTb7YHfaN59R5vu27Q9wAMDb9PWjZhv03ZlRu4KrCszt4E14EPAZER0Y3sz8PJlPmYlM+cyc+7I\\\n",
       "kSPDmagkXcS3aRuOkQpYRBzpXHkRET8KfBR4kd2Q/XznafcCT1QyQUm6yPSDZ3u3fr5N28EbtSXE\\\n",
       "G4FHIuI6duP6WGaeiYgXgEcj4t8Cfwp8rspJStJ+dKO0uro6sFW++5vQFxYWWFpaMl5XaaR+Duxa\\\n",
       "8ufAJA1D/5XX5meO7fmckt6mraSfAxu1KzBJKsrlotXPt2k7GCP1GpgkSftlwCRJRTJgkqQiGTBJ\\\n",
       "UpEMmCSpSAZMklQkAyZJKpIBkyQVyYBJkopkwCRJRTJgkqQiGTBJUpEM2FVot9tXNC5JuvYM2BVq\\\n",
       "NBrMzs7SarUGxlutFrOzs/5eH0kaEgN2BRqNBs1mk62tLRYWFnoRa7VaLCwssLW1RbPZNGKSNAQG\\\n",
       "bJ+68erqRuzs2bO9eHUZMUk6eAZsH9rtNqurqwNjiyyys7XD8ePH2dnaYZHFgeOrq6u+JiZJB8iA\\\n",
       "7cPU1BRra2vUajVgN14nOMFJTjLNNCc5yQlO9CJWq9VYW1vzt61K0gEyYPs0MzPTi9g662yyyTTT\\\n",
       "nOIU00yzySbrrPfiNTMzU/WUJWmsGbArMDMzw8rKCtts06Q5cKxJk222WVlZMV6SNAQG7Aq0Wi2W\\\n",
       "l5eZZJI69YFjdepMMsny8vIlW+wlSdeeAdun/q3y88z3lg3v477ecuI885dssZckHYzIzKrncCDm\\\n",
       "5uby3Llz1+RztdttZmdnB7bKL7LIOutss80kk8wzz2lO947XajXOnz/vRg5JRYmIZzNzrup57MdI\\\n",
       "XYFFxC0RsRYRL0TE8xFxojP+zoh4KiK+1vnvO4Y5r6mpKZaWlgbGTnOaidoEZ86cYaI2MRAvgKWl\\\n",
       "JeMlSQdopAIGvAF8KjNvBz4I3B8RtwMPAk9n5m3A053HB+LF9/1479av0WhQr//gda/ubsNjx44N\\\n",
       "bLEHqNfr/iCzJB2w66ueQL/MfAV4pXP/byLiReAm4G5gvvO0R4B14F8Pe37dKK2urg5sle9usV9Y\\\n",
       "WGBpacl4SdIQjOxrYBExDTwD/ATwfzNzsjMewHe6jy/nal8D67/y+vE/e3HP57Tb7T2XBy83Lkml\\\n",
       "KOk1sJG6AuuKiB8Dfhf4ZGb+9W6zdmVmRsSe1Y2IZWAZ4OjRo1f1Z18uWv0uFynjJUnDM2qvgRER\\\n",
       "b2M3Xl/IzN/rDH8rIm7sHL8ReHWvj83Mlcycy8y5I0eODGfCkqRKjFTAOsuDnwNezMzf6Dv0JHBv\\\n",
       "5/69wBPDnpskabSM2hLiPwJ+GfhqRHylM/ZrwGeAxyLi48A3gF+sZnqSpFExUgHLzP8JxGUO//Qw\\\n",
       "5yJJGm0jtYQoSdJ+GTBJUpEMmCSpSAZMklQkAyZJKpIBkyQVyYBJkopkwCRJRTJgkqQiGTBJUpEM\\\n",
       "mCSpSAZMklQkAyZJKpIBkyQVyYBJkopkwCRJRTJgkqQiGTBJUpEMmCSpSAZMklQkAyZJKpIBkyQV\\\n",
       "yYBJkopkwCRJRRq5gEXE5yPi1Yh4rm/snRHxVER8rfPfd1Q5x8Oi3W5f0bgkDdPIBQz4LeCui8Ye\\\n",
       "BJ7OzNuApzuPdYAajQazs7O0Wq2B8VarxezsLI1Go5qJSVLHyAUsM58B/uqi4buBRzr3HwEWhzmn\\\n",
       "w6bRaNBsNtna2mJhYaEXsVarxcLCAltbWzSbTSMmVeywr5KMXMAu492Z+Urn/l8C765yMuOsG6+u\\\n",
       "bsTOnj3bi1eXEZOq4yoJkJkjdwOmgef6Hm9fdPw7l/m4ZeAccO7o0aOpK/Paa69lrVZLoHdbZDEn\\\n",
       "mUwgJ5nMRRYHjtdqtXzttdeqnrp0qNTr9YGvwY2NjczM3NjYGPgartfrV/y5gXM5Ah3Yz63yCew5\\\n",
       "qUsDtgHc2Ll/I7DxVp/jjjvu2O/fl/r0fwEssphrrOUpTuU003mKU7nGWi9i/V84koajP179ETtz\\\n",
       "5swl34BeTcRKClgpS4hPAvd27t8LPFHhXMbazMwMa2tr1Go11llnk02mmeYUp5hmmk02WWedWq3G\\\n",
       "2toaMzMzVU9ZOjTa7Tarq6sDY4sssrO1w/Hjx9nZ2mHxoi0Cq6urY/ua2MgFLCJ+G/hfwD+IiJci\\\n",
       "4uPAZ4CPRsTXgI90HuuAzMzMsLKywjbbNGkOHGvSZJttVlZWjJc0ZFNTU71vMGE3Xic4wUlOMs00\\\n",
       "JznJCU70Itb9RnNqaqrCWR+c2L1iHD9zc3N57ty5qqdRpO5uw52tnd4XRtcmmzzAA0zUJrwCkypy\\\n",
       "kF+jEfFsZs5d4ykfiJG7AlO1+rfKzzPfWza8j/t6y4nzzF+yxV7S8LhKsssrMPW0221mZ2cHtsov\\\n",
       "ssg662yzzSSTzDPPaU73jtdqNc6fPz+2SxTSKPIKbJdXYOqZmppiaWlpYOw0p5moTXDmzBkmahMD\\\n",
       "8QJYWloyXtIQuUrSp+ptkAd1cxv91TvInzGRdPWG8bOauI1eo+gnH/nJ3u3NNBoN6vX6JVvl+7fY\\\n",
       "1+v1w/GT/tIIcZVkkK+BHSL94frqvV99y+e32+09/+FfblzSD+/f/7Pjvfuf+p0zez6n/y3f+r/R\\\n",
       "7F9eBK7qG82SXgO7vuoJaHRdLlLGS6pWN0qrq6t7rpIsLCywtLQ09qskXoFJ0gjZzxVY10GskngF\\\n",
       "Jkm6Km8VrX6HfZXETRySpCIZMElSkQyYJKlIBkySVCQDJkkqkgGTJBXJgEmSimTAJElFMmCSpCIZ\\\n",
       "MElSkQyYJKlIBkySVCQDJkkqkgGTJBXJgEmSilRMwCLirojYiIgLEfFg1fORJFWriIBFxHXAZ4Gf\\\n",
       "AW4Hfikibq92VpKkKhURMOBO4EJm/kVmfhd4FLi74jlJkipUSsBuAr7Z9/ilzpgk6ZAqJWD7EhHL\\\n",
       "EXEuIs59+9vfrno6kqQDVErAXgZu6Xt8c2dsQGauZOZcZs4dOXJkaJOTJA1fKQH7E+C2iLg1It4O\\\n",
       "3AM8WfGcJEkVur7qCexHZr4REf8S+EPgOuDzmfl8xdOSJFWoiIABZObvA79f9TwkSaOhlCVESZIG\\\n",
       "GDBJUpEMmCSpSAZMklQkAyZJKpIBkyQVyYBJkopkwCRJRTJgkqQiGTBJUpEMmCSpSAZMklQkAyZJ\\\n",
       "KpIBkyQVyYBJkopkwCRJRTJgkqQiGTBJUpEMmCSpSAZMklQkAyZJKpIBkyQVyYBJkopkwCRJRRqZ\\\n",
       "gEXEL0TE8xHx/YiYu+jYpyPiQkRsRMTHqpqjJGl0XF/1BPo8B/wc8F/6ByPiduAe4P1ADfhSRMxk\\\n",
       "5veGP0VJ0qgYmSuwzHwxMzf2OHQ38Ghmvp6ZXwcuAHcOd3aSpFEzMgF7EzcB3+x7/FJnTJJ0iA11\\\n",
       "CTEivgS8Z49DD2XmE9fg8y8DywBHjx79YT+dJGmEDTVgmfmRq/iwl4Fb+h7f3Bnb6/OvACsAc3Nz\\\n",
       "eRV/liSpECUsIT4J3BMRN0TErcBtwJcrnpMkqWIjE7CI+NmIeAn4EHA2Iv4QIDOfBx4DXgD+K3C/\\\n",
       "OxAlSSOzjT4zHwcev8yxh4GHhzsjSdIoG5krMEmSroQBkyQVyYBJkopkwCRJRTJgkqQiGTBJUpEM\\\n",
       "mCSpSAZMklQkAyZJKpIBkyQVyYBJkopkwCRJRTJgkqQiGTBJUpEMmCSpSAZMklQkAyZJKpIBkyQV\\\n",
       "yYBJkopkwCRJRTJgkqQiGTBJUpEMmCSpSAZMklSkkQlYRPy7iPiziDgfEY9HxGTfsU9HxIWI2IiI\\\n",
       "j1U4TUnSiBiZgAFPAT+RmbNAC/g0QETcDtwDvB+4C/jNiLiusllKkkbCyAQsM/9bZr7RefhHwM2d\\\n",
       "+3cDj2bm65n5deACcGcVc5QkjY6RCdhFfgX4g879m4Bv9h17qTMmSTrErh/mHxYRXwLes8ehhzLz\\\n",
       "ic5zHgLeAL5wFZ9/GVgGOHr06A8xU0nSqBtqwDLzI292PCL+BXAc+OnMzM7wy8AtfU+7uTO21+df\\\n",
       "AVYA5ubmcq/nSJLGw8gsIUbEXcC/Av5pZu70HXoSuCciboiIW4HbgC9XMUdJ0ugY6hXYW/hPwA3A\\\n",
       "UxEB8EeZ+auZ+XxEPAa8wO7S4v2Z+b0K5ylJGgEjE7DMfO+bHHsYeHiI05EkjbiRWUKUJF29drt9\\\n",
       "RePjwIBJUuEajQazs7O0Wq2B8VarxezsLI1Go5qJHTADJkkFazQaNJtNtra2WFhY6EWs1WqxsLDA\\\n",
       "1tYWzWZzLCNmwCSpUN14dXUjdvbs2V68usYxYgZMkgrUbrdZXV0dGFtkkZ2tHY4fP87O1g6LLA4c\\\n",
       "X11dHavXxAyYJBVoamqKtbU1arUasBuvE5zgJCeZZpqTnOQEJ3oRq9VqrK2tMTU1VeGsry0DJkmF\\\n",
       "mpmZ6UVsnXU22WSaaU5ximmm2WSTddZ78ZqZmal6yteUAZOkgs3MzLCyssI22zRpDhxr0mSbbVZW\\\n",
       "VsYuXmDAJKlorVaL5eVlJpmkTn3gWJ06k0yyvLx8yRb7cWDAJKlQ/Vvl55nvLRvex3295cR55i/Z\\\n",
       "Yj8u4gdv+j5e5ubm8ty5c1VPQ5IORLvdZnZ2dmCr/CKLrLPONttMMsk885zmdO94rVbj/Pnzb7qR\\\n",
       "IyKezcy5g5z7teIVmCQVaGpqiqWlpYGx05xmojbBmTNnmKhNDMQLYGlpyV2IkqTqNRoN6vUfvO7V\\\n",
       "3W147NixgS32APV6fex+kHlk3o1ekjTos7/633v37//PH97zOd0ora6uDmyV726xX1hYYGlpaezi\\\n",
       "BQZMkorXaDT4xCc+ccny4MzMzFu+5lUylxAlaQxcLlLjGi/wCkySRtbllg21yyswSVKRDJgkqUgG\\\n",
       "TJJUJAMmSSqSAZMkFcmASZKKZMAkSUUa23ejj4hvA9+oeh4H7F3Aa1VPYsgO4znD4Txvz7kafy8z\\\n",
       "j1Q8h30Z24AdBhFxrpRfe3CtHMZzhsN53p6z3opLiJKkIhkwSVKRDFjZVqqeQAUO4znD4Txvz1lv\\\n",
       "ytfAJElF8gpMklQkA1agiPiFiHg+Ir4fEXMXHft0RFyIiI2I+FhVczwIEXFX57wuRMSDVc/nIETE\\\n",
       "5yPi1Yh4rm/snRHxVER8rfPfd1Q5x2stIm6JiLWIeKHz7/pEZ3zcz/tHIuLLEfF/Oufd7IzfGhF/\\\n",
       "3Pl3/jsR8faq5zqqDFiZngN+DnimfzAibgfuAd4P3AX8ZkRcN/zpXXud8/gs8DPA7cAvdc533PwW\\\n",
       "u393/R4Ens7M24CnO4/HyRvApzLzduCDwP2dv9txP+/XgQ9n5k8BHwDuiogPAr8OnMzM9wLfAT5e\\\n",
       "3RRHmwErUGa+mJkbexy6G3g0M1/PzK8DF4A7hzu7A3MncCEz/yIzvws8yu75jpXMfAb4q4uG7wYe\\\n",
       "6dx/BFgc5pwOWma+kpn/u3P/b4AXgZsY//POzPzbzsO3dW4JfBj4Ymd87M77WjJg4+Um4Jt9j1/q\\\n",
       "jI2DcT63t/LuzHylc/8vgXdXOZmDFBHTwD8E/phDcN4RcV1EfAV4FXgK+HNgOzPf6DzlMP07v2LX\\\n",
       "Vz0B7S0ivgS8Z49DD2XmE8Oej0ZDZmZEjOXW4Yj4MeB3gU9m5l9HRO/YuJ53Zn4P+EBETAKPA++r\\\n",
       "dkZlMWAjKjM/chUf9jJwS9/jmztj42Ccz+2tfCsibszMVyLiRna/Wx8rEfE2duP1hcz8vc7w2J93\\\n",
       "V2ZuR8Qa8CFgMiKu71yFHaZ/51fMJcTx8iRwT0TcEBG3ArcBX654TtfKnwC3dXZovZ3dzSpPVjyn\\\n",
       "YXkSuLdz/15grK7AY/dS63PAi5n5G32Hxv28j3SuvIiIHwU+yu7rf2vAz3eeNnbnfS35g8wFioif\\\n",
       "Bf4jcATYBr6SmR/rHHsI+BV2d3Z9MjP/oKp5XmsR8U+A/wBcB3w+Mx+udkbXXkT8NjDP7ruSfwuo\\\n",
       "A6eBx4Cj7P6GhV/MzIs3ehQrIv4x8D+ArwLf7wz/Gruvg43zec+yu0njOnYvJh7LzH8TEX+f3U1K\\\n",
       "7wT+FPjnmfl6dTMdXQZMklQklxAlSUUyYJKkIhkwSVKRDJgkqUgGTJJUJAMmSSqSAZMkFcmASZKK\\\n",
       "ZMAkSUUyYJKkIhkwSVKRDJgkqUgGTJJUJAMmSSqSAZMkFcmASZKKZMAkSUUyYJKkIhkwSVKRDJgk\\\n",
       "qUj/H81/rT3XwH4YAAAAAElFTkSuQmCC\\\n",
       "\"\n",
       "\n",
       "\n",
       "    /* set a timeout to make sure all the above elements are created before\n",
       "       the object is initialized. */\n",
       "    setTimeout(function() {\n",
       "        anim951cae3452e84af093e04670755784b4 = new Animation(frames, img_id, slider_id, 500.0,\n",
       "                                 loop_select_id);\n",
       "    }, 0);\n",
       "  })()\n",
       "</script>\n"
      ],
      "text/plain": [
       "<IPython.core.display.HTML object>"
      ]
     },
     "execution_count": 41,
     "metadata": {},
     "output_type": "execute_result"
    }
   ],
   "source": [
    "# create your own animation\n",
    "X = data.clone()\n",
    "fig,ax = plt.subplots()\n",
    "ani = FuncAnimation(fig, do_one, frames=5, interval=500, repeat=False)\n",
    "plt.close()\n",
    "HTML(ani.to_jshtml())"
   ]
  },
  {
   "cell_type": "markdown",
   "metadata": {},
   "source": [
    "## GPU batched algorithm"
   ]
  },
  {
   "cell_type": "markdown",
   "metadata": {},
   "source": [
    "To truly accelerate the algorithm, we need to be performing updates on a batch of points per iteration, instead of just one as we were doing."
   ]
  },
  {
   "cell_type": "code",
   "execution_count": 42,
   "metadata": {},
   "outputs": [
    {
     "data": {
      "text/plain": [
       "(torch.Size([5, 2]), torch.Size([1500, 2]))"
      ]
     },
     "execution_count": 42,
     "metadata": {},
     "output_type": "execute_result"
    }
   ],
   "source": [
    "bs=5\n",
    "X = data.clone()\n",
    "x = X[:bs]\n",
    "x.shape,X.shape"
   ]
  },
  {
   "cell_type": "code",
   "execution_count": 43,
   "metadata": {},
   "outputs": [
    {
     "data": {
      "text/plain": [
       "(torch.Size([1, 1500, 2]), torch.Size([5, 1, 2]))"
      ]
     },
     "execution_count": 43,
     "metadata": {},
     "output_type": "execute_result"
    }
   ],
   "source": [
    "X[None].shape, x[:,None].shape"
   ]
  },
  {
   "cell_type": "code",
   "execution_count": 44,
   "metadata": {},
   "outputs": [],
   "source": [
    "def dist_b(a,b): return (((a[None]-b[:,None])**2).sum(2)).sqrt()"
   ]
  },
  {
   "cell_type": "code",
   "execution_count": 45,
   "metadata": {},
   "outputs": [
    {
     "data": {
      "text/plain": [
       "tensor([[ 0.000,  2.813,  3.713,  ..., 17.468, 21.972, 19.654],\n",
       "        [ 2.813,  0.000,  1.421,  ..., 20.034, 24.335, 22.111],\n",
       "        [ 3.713,  1.421,  0.000,  ..., 20.239, 24.322, 22.194],\n",
       "        [ 6.068,  4.204,  2.783,  ..., 20.885, 24.503, 22.583],\n",
       "        [ 1.624,  1.483,  2.097,  ..., 18.554, 22.858, 20.629]])"
      ]
     },
     "execution_count": 45,
     "metadata": {},
     "output_type": "execute_result"
    }
   ],
   "source": [
    "dist_b(X, x)"
   ]
  },
  {
   "cell_type": "code",
   "execution_count": 46,
   "metadata": {},
   "outputs": [
    {
     "data": {
      "text/plain": [
       "torch.Size([5, 1500])"
      ]
     },
     "execution_count": 46,
     "metadata": {},
     "output_type": "execute_result"
    }
   ],
   "source": [
    "dist_b(X, x).shape"
   ]
  },
  {
   "cell_type": "code",
   "execution_count": 47,
   "metadata": {},
   "outputs": [
    {
     "data": {
      "text/plain": [
       "torch.Size([5, 1, 2])"
      ]
     },
     "execution_count": 47,
     "metadata": {},
     "output_type": "execute_result"
    }
   ],
   "source": [
    "x[:,None,:].shape"
   ]
  },
  {
   "cell_type": "code",
   "execution_count": 48,
   "metadata": {},
   "outputs": [
    {
     "data": {
      "text/plain": [
       "(torch.Size([1, 1500, 2]), torch.Size([5, 1, 2]), torch.Size([5, 1500, 2]))"
      ]
     },
     "execution_count": 48,
     "metadata": {},
     "output_type": "execute_result"
    }
   ],
   "source": [
    "X[None,:].shape, x[:,None].shape, (X[None,:]-x[:,None]).shape"
   ]
  },
  {
   "cell_type": "code",
   "execution_count": 49,
   "metadata": {},
   "outputs": [
    {
     "data": {
      "text/plain": [
       "tensor([[    0.199,     0.074,     0.036,  ...,     0.000,     0.000,     0.000],\n",
       "        [    0.074,     0.199,     0.155,  ...,     0.000,     0.000,     0.000],\n",
       "        [    0.036,     0.155,     0.199,  ...,     0.000,     0.000,     0.000],\n",
       "        [    0.002,     0.022,     0.076,  ...,     0.000,     0.000,     0.000],\n",
       "        [    0.143,     0.152,     0.115,  ...,     0.000,     0.000,     0.000]])"
      ]
     },
     "execution_count": 49,
     "metadata": {},
     "output_type": "execute_result"
    }
   ],
   "source": [
    "weight = gaussian(dist_b(X, x), 2)\n",
    "weight"
   ]
  },
  {
   "cell_type": "code",
   "execution_count": 50,
   "metadata": {},
   "outputs": [
    {
     "data": {
      "text/plain": [
       "(torch.Size([5, 1500]), torch.Size([1500, 2]))"
      ]
     },
     "execution_count": 50,
     "metadata": {},
     "output_type": "execute_result"
    }
   ],
   "source": [
    "weight.shape,X.shape"
   ]
  },
  {
   "cell_type": "code",
   "execution_count": 51,
   "metadata": {},
   "outputs": [
    {
     "data": {
      "text/plain": [
       "(torch.Size([5, 1500, 1]), torch.Size([1, 1500, 2]))"
      ]
     },
     "execution_count": 51,
     "metadata": {},
     "output_type": "execute_result"
    }
   ],
   "source": [
    "weight[...,None].shape, X[None].shape"
   ]
  },
  {
   "cell_type": "code",
   "execution_count": 52,
   "metadata": {},
   "outputs": [
    {
     "data": {
      "text/plain": [
       "torch.Size([5, 2])"
      ]
     },
     "execution_count": 52,
     "metadata": {},
     "output_type": "execute_result"
    }
   ],
   "source": [
    "num = (weight[...,None]*X[None]).sum(1)\n",
    "num.shape"
   ]
  },
  {
   "cell_type": "code",
   "execution_count": 53,
   "metadata": {},
   "outputs": [
    {
     "data": {
      "text/plain": [
       "tensor([[548.960, 569.866],\n",
       "        [555.972, 620.585],\n",
       "        [405.019, 464.326],\n",
       "        [117.351, 141.431],\n",
       "        [569.842, 616.567]])"
      ]
     },
     "execution_count": 53,
     "metadata": {},
     "output_type": "execute_result"
    }
   ],
   "source": [
    "num"
   ]
  },
  {
   "cell_type": "code",
   "execution_count": 54,
   "metadata": {},
   "outputs": [
    {
     "data": {
      "text/plain": [
       "tensor([[548.960, 569.866],\n",
       "        [555.972, 620.585],\n",
       "        [405.019, 464.326],\n",
       "        [117.351, 141.431],\n",
       "        [569.842, 616.567]])"
      ]
     },
     "execution_count": 54,
     "metadata": {},
     "output_type": "execute_result"
    }
   ],
   "source": [
    "torch.einsum('ij,jk->ik', weight, X)"
   ]
  },
  {
   "cell_type": "code",
   "execution_count": 55,
   "metadata": {},
   "outputs": [
    {
     "data": {
      "text/plain": [
       "tensor([[548.960, 569.866],\n",
       "        [555.972, 620.585],\n",
       "        [405.019, 464.326],\n",
       "        [117.351, 141.431],\n",
       "        [569.842, 616.567]])"
      ]
     },
     "execution_count": 55,
     "metadata": {},
     "output_type": "execute_result"
    }
   ],
   "source": [
    "weight@X"
   ]
  },
  {
   "cell_type": "code",
   "execution_count": 56,
   "metadata": {},
   "outputs": [
    {
     "data": {
      "text/plain": [
       "torch.Size([5, 1])"
      ]
     },
     "execution_count": 56,
     "metadata": {},
     "output_type": "execute_result"
    }
   ],
   "source": [
    "div = weight.sum(1, keepdim=True)\n",
    "div.shape"
   ]
  },
  {
   "cell_type": "code",
   "execution_count": 57,
   "metadata": {},
   "outputs": [
    {
     "data": {
      "text/plain": [
       "tensor([[27.350, 28.392],\n",
       "        [26.251, 29.302],\n",
       "        [25.429, 29.153],\n",
       "        [23.879, 28.779],\n",
       "        [26.490, 28.662]])"
      ]
     },
     "execution_count": 57,
     "metadata": {},
     "output_type": "execute_result"
    }
   ],
   "source": [
    "num/div"
   ]
  },
  {
   "cell_type": "code",
   "execution_count": 58,
   "metadata": {},
   "outputs": [],
   "source": [
    "def meanshift(data, bs=500):\n",
    "    n = len(data)\n",
    "    X = data.clone()\n",
    "    for it in range(5):\n",
    "        for i in range(0, n, bs):\n",
    "            s = slice(i, min(i+bs,n))\n",
    "            weight = gaussian(dist_b(X, X[s]), 2.5)\n",
    "#             weight = tri(dist_b(X, X[s]), 8)\n",
    "            div = weight.sum(1, keepdim=True)\n",
    "            X[s] = weight@X/div\n",
    "    return X"
   ]
  },
  {
   "cell_type": "markdown",
   "metadata": {},
   "source": [
    "Although each iteration still has to launch a new cuda kernel, there are now fewer iterations, and the acceleration from updating a batch of points more than makes up for it."
   ]
  },
  {
   "cell_type": "code",
   "execution_count": 59,
   "metadata": {},
   "outputs": [],
   "source": [
    "data = data.cuda()"
   ]
  },
  {
   "cell_type": "code",
   "execution_count": 60,
   "metadata": {},
   "outputs": [],
   "source": [
    "X = meanshift(data).cpu()"
   ]
  },
  {
   "cell_type": "code",
   "execution_count": 61,
   "metadata": {},
   "outputs": [
    {
     "name": "stdout",
     "output_type": "stream",
     "text": [
      "5.41 ms ± 190 µs per loop (mean ± std. dev. of 7 runs, 5 loops each)\n"
     ]
    }
   ],
   "source": [
    "%timeit -n 5 _=meanshift(data, 1250).cpu()"
   ]
  },
  {
   "cell_type": "code",
   "execution_count": 62,
   "metadata": {},
   "outputs": [
    {
     "data": {
      "image/png": "[encoded data removed]",
      "text/plain": [
       "<Figure size 432x288 with 1 Axes>"
      ]
     },
     "metadata": {
      "needs_background": "light"
     },
     "output_type": "display_data"
    }
   ],
   "source": [
    "plot_data(centroids+2, X, n_samples)"
   ]
  },
  {
   "cell_type": "markdown",
   "metadata": {},
   "source": [
    "**Homework:** implement k-means clustering, dbscan, locality sensitive hashing, or some other clustering, fast nearest neighbors, or similar algorithm of your choice, on the GPU. Check if your version is faster than a pure python or CPU version.\n",
    "\n",
    "Bonus: Implement it in APL too!\n",
    "\n",
    "Super bonus: Invent a new meanshift algorithm which picks only the closest points, to avoid quadratic time.\n",
    "\n",
    "Super super bonus: Publish a paper that describes it :D"
   ]
  },
  {
   "cell_type": "code",
   "execution_count": null,
   "metadata": {},
   "outputs": [],
   "source": []
  }
 ],
 "metadata": {
  "kernelspec": {
   "display_name": "Python 3 (ipykernel)",
   "language": "python",
   "name": "python3"
  },
  "language_info": {
   "codemirror_mode": {
    "name": "ipython",
    "version": 3
   },
   "file_extension": ".py",
   "mimetype": "text/x-python",
   "name": "python",
   "nbconvert_exporter": "python",
   "pygments_lexer": "ipython3",
   "version": "3.9.13"
  }
 },
 "nbformat": 4,
 "nbformat_minor": 4
}
